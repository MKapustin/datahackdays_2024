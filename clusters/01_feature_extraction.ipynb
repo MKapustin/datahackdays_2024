{
 "cells": [
  {
   "cell_type": "code",
   "execution_count": 2,
   "id": "initial_id",
   "metadata": {
    "ExecuteTime": {
     "end_time": "2024-09-12T13:56:46.265292Z",
     "start_time": "2024-09-12T13:56:45.310105Z"
    },
    "collapsed": true
   },
   "outputs": [],
   "source": [
    "import pandas as pd\n",
    "import random\n",
    "import dask.dataframe as dd"
   ]
  },
  {
   "cell_type": "code",
   "execution_count": 3,
   "id": "72e56a7a32b2b737",
   "metadata": {
    "ExecuteTime": {
     "end_time": "2024-09-12T13:56:47.381158Z",
     "start_time": "2024-09-12T13:56:46.273006Z"
    }
   },
   "outputs": [
    {
     "name": "stderr",
     "output_type": "stream",
     "text": [
      "/home/soo/git_repos/datahackdays_2024/.venv/lib/python3.10/site-packages/dask/dataframe/io/csv.py:555: UserWarning: Warning gzip compression does not support breaking apart files\n",
      "Please ensure that each individual file can fit in memory and\n",
      "use the keyword ``blocksize=None to remove this message``\n",
      "Setting ``blocksize=None``\n",
      "  warn(\n"
     ]
    },
    {
     "data": {
      "text/html": [
       "<div>\n",
       "<style scoped>\n",
       "    .dataframe tbody tr th:only-of-type {\n",
       "        vertical-align: middle;\n",
       "    }\n",
       "\n",
       "    .dataframe tbody tr th {\n",
       "        vertical-align: top;\n",
       "    }\n",
       "\n",
       "    .dataframe thead th {\n",
       "        text-align: right;\n",
       "    }\n",
       "</style>\n",
       "<table border=\"1\" class=\"dataframe\">\n",
       "  <thead>\n",
       "    <tr style=\"text-align: right;\">\n",
       "      <th></th>\n",
       "      <th>id</th>\n",
       "      <th>timestamp</th>\n",
       "      <th>value_kwh</th>\n",
       "      <th>year</th>\n",
       "    </tr>\n",
       "  </thead>\n",
       "  <tbody>\n",
       "    <tr>\n",
       "      <th>0</th>\n",
       "      <td>f75148515d279e2c6c36207fa4002faf</td>\n",
       "      <td>2021-05-08T00:15:00.000Z</td>\n",
       "      <td>0.0</td>\n",
       "      <td>2021</td>\n",
       "    </tr>\n",
       "    <tr>\n",
       "      <th>1</th>\n",
       "      <td>f75148515d279e2c6c36207fa4002faf</td>\n",
       "      <td>2021-01-30T06:30:00.000Z</td>\n",
       "      <td>0.0</td>\n",
       "      <td>2021</td>\n",
       "    </tr>\n",
       "    <tr>\n",
       "      <th>2</th>\n",
       "      <td>f75148515d279e2c6c36207fa4002faf</td>\n",
       "      <td>2021-01-25T23:15:00.000Z</td>\n",
       "      <td>0.0</td>\n",
       "      <td>2021</td>\n",
       "    </tr>\n",
       "    <tr>\n",
       "      <th>3</th>\n",
       "      <td>f75148515d279e2c6c36207fa4002faf</td>\n",
       "      <td>2021-02-03T18:30:00.000Z</td>\n",
       "      <td>0.0</td>\n",
       "      <td>2021</td>\n",
       "    </tr>\n",
       "    <tr>\n",
       "      <th>4</th>\n",
       "      <td>f75148515d279e2c6c36207fa4002faf</td>\n",
       "      <td>2021-06-17T19:15:00.000Z</td>\n",
       "      <td>0.0</td>\n",
       "      <td>2021</td>\n",
       "    </tr>\n",
       "  </tbody>\n",
       "</table>\n",
       "</div>"
      ],
      "text/plain": [
       "                                 id                 timestamp  value_kwh  year\n",
       "0  f75148515d279e2c6c36207fa4002faf  2021-05-08T00:15:00.000Z        0.0  2021\n",
       "1  f75148515d279e2c6c36207fa4002faf  2021-01-30T06:30:00.000Z        0.0  2021\n",
       "2  f75148515d279e2c6c36207fa4002faf  2021-01-25T23:15:00.000Z        0.0  2021\n",
       "3  f75148515d279e2c6c36207fa4002faf  2021-02-03T18:30:00.000Z        0.0  2021\n",
       "4  f75148515d279e2c6c36207fa4002faf  2021-06-17T19:15:00.000Z        0.0  2021"
      ]
     },
     "execution_count": 3,
     "metadata": {},
     "output_type": "execute_result"
    }
   ],
   "source": [
    "# Load the data\n",
    "sample_df = dd.read_csv(\"../data/100_15_2021.csv.gz\").compute()\n",
    "sample_df.head()"
   ]
  },
  {
   "cell_type": "code",
   "execution_count": 6,
   "id": "422104cbbda792c1",
   "metadata": {
    "ExecuteTime": {
     "end_time": "2024-09-12T13:56:49.555486Z",
     "start_time": "2024-09-12T13:56:47.482693Z"
    }
   },
   "outputs": [
    {
     "name": "stderr",
     "output_type": "stream",
     "text": [
      "/tmp/ipykernel_65570/135626291.py:3: UserWarning: Converting to PeriodArray/Index representation will drop timezone information.\n",
      "  sample_df[\"year_month\"] = sample_df[\"timestamp\"].dt.to_period(\"M\")\n"
     ]
    },
    {
     "data": {
      "text/html": [
       "<div>\n",
       "<style scoped>\n",
       "    .dataframe tbody tr th:only-of-type {\n",
       "        vertical-align: middle;\n",
       "    }\n",
       "\n",
       "    .dataframe tbody tr th {\n",
       "        vertical-align: top;\n",
       "    }\n",
       "\n",
       "    .dataframe thead th {\n",
       "        text-align: right;\n",
       "    }\n",
       "</style>\n",
       "<table border=\"1\" class=\"dataframe\">\n",
       "  <thead>\n",
       "    <tr style=\"text-align: right;\">\n",
       "      <th></th>\n",
       "      <th>id</th>\n",
       "      <th>timestamp</th>\n",
       "      <th>value_kwh</th>\n",
       "      <th>year</th>\n",
       "      <th>year_month</th>\n",
       "    </tr>\n",
       "  </thead>\n",
       "  <tbody>\n",
       "    <tr>\n",
       "      <th>0</th>\n",
       "      <td>f75148515d279e2c6c36207fa4002faf</td>\n",
       "      <td>2021-05-08 00:15:00+00:00</td>\n",
       "      <td>0.0</td>\n",
       "      <td>2021</td>\n",
       "      <td>2021-05</td>\n",
       "    </tr>\n",
       "    <tr>\n",
       "      <th>1</th>\n",
       "      <td>f75148515d279e2c6c36207fa4002faf</td>\n",
       "      <td>2021-01-30 06:30:00+00:00</td>\n",
       "      <td>0.0</td>\n",
       "      <td>2021</td>\n",
       "      <td>2021-01</td>\n",
       "    </tr>\n",
       "    <tr>\n",
       "      <th>2</th>\n",
       "      <td>f75148515d279e2c6c36207fa4002faf</td>\n",
       "      <td>2021-01-25 23:15:00+00:00</td>\n",
       "      <td>0.0</td>\n",
       "      <td>2021</td>\n",
       "      <td>2021-01</td>\n",
       "    </tr>\n",
       "    <tr>\n",
       "      <th>3</th>\n",
       "      <td>f75148515d279e2c6c36207fa4002faf</td>\n",
       "      <td>2021-02-03 18:30:00+00:00</td>\n",
       "      <td>0.0</td>\n",
       "      <td>2021</td>\n",
       "      <td>2021-02</td>\n",
       "    </tr>\n",
       "    <tr>\n",
       "      <th>4</th>\n",
       "      <td>f75148515d279e2c6c36207fa4002faf</td>\n",
       "      <td>2021-06-17 19:15:00+00:00</td>\n",
       "      <td>0.0</td>\n",
       "      <td>2021</td>\n",
       "      <td>2021-06</td>\n",
       "    </tr>\n",
       "  </tbody>\n",
       "</table>\n",
       "</div>"
      ],
      "text/plain": [
       "                                 id                 timestamp  value_kwh  \\\n",
       "0  f75148515d279e2c6c36207fa4002faf 2021-05-08 00:15:00+00:00        0.0   \n",
       "1  f75148515d279e2c6c36207fa4002faf 2021-01-30 06:30:00+00:00        0.0   \n",
       "2  f75148515d279e2c6c36207fa4002faf 2021-01-25 23:15:00+00:00        0.0   \n",
       "3  f75148515d279e2c6c36207fa4002faf 2021-02-03 18:30:00+00:00        0.0   \n",
       "4  f75148515d279e2c6c36207fa4002faf 2021-06-17 19:15:00+00:00        0.0   \n",
       "\n",
       "   year year_month  \n",
       "0  2021    2021-05  \n",
       "1  2021    2021-01  \n",
       "2  2021    2021-01  \n",
       "3  2021    2021-02  \n",
       "4  2021    2021-06  "
      ]
     },
     "execution_count": 6,
     "metadata": {},
     "output_type": "execute_result"
    }
   ],
   "source": [
    "# Add month column\n",
    "sample_df[\"timestamp\"] = pd.to_datetime(sample_df[\"timestamp\"])\n",
    "sample_df[\"year_month\"] = sample_df[\"timestamp\"].dt.to_period(\"M\")\n",
    "sample_df.head()"
   ]
  },
  {
   "cell_type": "code",
   "execution_count": 7,
   "id": "cf3b48946caf2df6",
   "metadata": {
    "ExecuteTime": {
     "end_time": "2024-09-12T13:56:49.876171Z",
     "start_time": "2024-09-12T13:56:49.624495Z"
    }
   },
   "outputs": [
    {
     "data": {
      "text/html": [
       "<div>\n",
       "<style scoped>\n",
       "    .dataframe tbody tr th:only-of-type {\n",
       "        vertical-align: middle;\n",
       "    }\n",
       "\n",
       "    .dataframe tbody tr th {\n",
       "        vertical-align: top;\n",
       "    }\n",
       "\n",
       "    .dataframe thead th {\n",
       "        text-align: right;\n",
       "    }\n",
       "</style>\n",
       "<table border=\"1\" class=\"dataframe\">\n",
       "  <thead>\n",
       "    <tr style=\"text-align: right;\">\n",
       "      <th></th>\n",
       "      <th>id</th>\n",
       "      <th>year_month</th>\n",
       "      <th>value_kwh_mean</th>\n",
       "      <th>value_kwh_std</th>\n",
       "      <th>value_kwh_min</th>\n",
       "      <th>value_kwh_max</th>\n",
       "    </tr>\n",
       "  </thead>\n",
       "  <tbody>\n",
       "    <tr>\n",
       "      <th>0</th>\n",
       "      <td>035293b7f95ace18fc6c574cc4e6cc74</td>\n",
       "      <td>2021-01</td>\n",
       "      <td>0.050968</td>\n",
       "      <td>0.018580</td>\n",
       "      <td>0.0</td>\n",
       "      <td>0.095</td>\n",
       "    </tr>\n",
       "    <tr>\n",
       "      <th>1</th>\n",
       "      <td>035293b7f95ace18fc6c574cc4e6cc74</td>\n",
       "      <td>2021-02</td>\n",
       "      <td>0.046885</td>\n",
       "      <td>0.019188</td>\n",
       "      <td>0.0</td>\n",
       "      <td>0.097</td>\n",
       "    </tr>\n",
       "    <tr>\n",
       "      <th>2</th>\n",
       "      <td>035293b7f95ace18fc6c574cc4e6cc74</td>\n",
       "      <td>2021-03</td>\n",
       "      <td>0.045167</td>\n",
       "      <td>0.018714</td>\n",
       "      <td>0.0</td>\n",
       "      <td>0.095</td>\n",
       "    </tr>\n",
       "    <tr>\n",
       "      <th>3</th>\n",
       "      <td>035293b7f95ace18fc6c574cc4e6cc74</td>\n",
       "      <td>2021-04</td>\n",
       "      <td>0.042099</td>\n",
       "      <td>0.018532</td>\n",
       "      <td>0.0</td>\n",
       "      <td>0.096</td>\n",
       "    </tr>\n",
       "    <tr>\n",
       "      <th>4</th>\n",
       "      <td>035293b7f95ace18fc6c574cc4e6cc74</td>\n",
       "      <td>2021-05</td>\n",
       "      <td>0.037923</td>\n",
       "      <td>0.018846</td>\n",
       "      <td>0.0</td>\n",
       "      <td>0.095</td>\n",
       "    </tr>\n",
       "  </tbody>\n",
       "</table>\n",
       "</div>"
      ],
      "text/plain": [
       "                                 id year_month  value_kwh_mean  value_kwh_std  \\\n",
       "0  035293b7f95ace18fc6c574cc4e6cc74    2021-01        0.050968       0.018580   \n",
       "1  035293b7f95ace18fc6c574cc4e6cc74    2021-02        0.046885       0.019188   \n",
       "2  035293b7f95ace18fc6c574cc4e6cc74    2021-03        0.045167       0.018714   \n",
       "3  035293b7f95ace18fc6c574cc4e6cc74    2021-04        0.042099       0.018532   \n",
       "4  035293b7f95ace18fc6c574cc4e6cc74    2021-05        0.037923       0.018846   \n",
       "\n",
       "   value_kwh_min  value_kwh_max  \n",
       "0            0.0          0.095  \n",
       "1            0.0          0.097  \n",
       "2            0.0          0.095  \n",
       "3            0.0          0.096  \n",
       "4            0.0          0.095  "
      ]
     },
     "execution_count": 7,
     "metadata": {},
     "output_type": "execute_result"
    }
   ],
   "source": [
    "# Step 1: Group by 'id' and extract features\n",
    "monthly_features_df = sample_df.groupby([\"id\", \"year_month\"]).agg(\n",
    "    {\"value_kwh\": [\"mean\", \"std\", \"min\", \"max\"]}\n",
    ")\n",
    "\n",
    "monthly_features_df.columns = [\"_\".join(col).strip() for col in monthly_features_df.columns.values]\n",
    "monthly_features_df = monthly_features_df.reset_index()\n",
    "monthly_features_df.head()"
   ]
  },
  {
   "cell_type": "code",
   "execution_count": 8,
   "id": "b7c4bfc0",
   "metadata": {},
   "outputs": [],
   "source": [
    "# Save the data as csv\n",
    "monthly_features_df.to_csv(\"../data/100_15_2021_features.csv\", index=False)"
   ]
  },
  {
   "cell_type": "code",
   "execution_count": null,
   "id": "c7812c2a",
   "metadata": {},
   "outputs": [],
   "source": []
  }
 ],
 "metadata": {
  "kernelspec": {
   "display_name": "Python 3",
   "language": "python",
   "name": "python3"
  },
  "language_info": {
   "codemirror_mode": {
    "name": "ipython",
    "version": 3
   },
   "file_extension": ".py",
   "mimetype": "text/x-python",
   "name": "python",
   "nbconvert_exporter": "python",
   "pygments_lexer": "ipython3",
   "version": "3.10.12"
  }
 },
 "nbformat": 4,
 "nbformat_minor": 5
}
