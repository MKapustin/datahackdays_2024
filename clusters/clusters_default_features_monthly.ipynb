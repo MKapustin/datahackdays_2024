{
 "cells": [
  {
   "cell_type": "code",
   "id": "initial_id",
   "metadata": {
    "collapsed": true,
    "ExecuteTime": {
     "end_time": "2024-09-12T20:21:28.102308Z",
     "start_time": "2024-09-12T20:21:28.098474Z"
    }
   },
   "source": [
    "import pandas as pd\n",
    "import random\n",
    "import dask.dataframe as dd\n",
    "from sklearn.cluster import MiniBatchKMeans\n",
    "from sklearn.preprocessing import StandardScaler\n",
    "import matplotlib.pyplot as plt\n",
    "import datetime as dt\n",
    "import numpy as np\n",
    "\n"
   ],
   "outputs": [],
   "execution_count": 154
  },
  {
   "metadata": {
    "ExecuteTime": {
     "end_time": "2024-09-12T20:21:31.990249Z",
     "start_time": "2024-09-12T20:21:30.386753Z"
    }
   },
   "cell_type": "code",
   "source": [
    "# ddf = dd.read_csv(timeseries_file_path)\n",
    "# \n",
    "# # Randomly sample 1% of the dataset\n",
    "# sample_ddf = ddf.sample(frac=0.01)\n",
    "# \n",
    "# # Compute the sample, converting the Dask DataFrame to a Pandas DataFrame\n",
    "# sample_df = sample_ddf.compute()\n",
    "# \n",
    "# print(sample_df.head())\n",
    "\n",
    "sample_df = dd.read_csv('/Users/fionaturner-hehlen/Desktop/EnergyDataHackdays2024/100_15_2021.csv').compute()\n",
    "sample_df.head()"
   ],
   "id": "72e56a7a32b2b737",
   "outputs": [
    {
     "data": {
      "text/plain": "                                 id                 timestamp  value_kwh  year\n0  f75148515d279e2c6c36207fa4002faf  2021-05-08T00:15:00.000Z        0.0  2021\n1  f75148515d279e2c6c36207fa4002faf  2021-01-30T06:30:00.000Z        0.0  2021\n2  f75148515d279e2c6c36207fa4002faf  2021-01-25T23:15:00.000Z        0.0  2021\n3  f75148515d279e2c6c36207fa4002faf  2021-02-03T18:30:00.000Z        0.0  2021\n4  f75148515d279e2c6c36207fa4002faf  2021-06-17T19:15:00.000Z        0.0  2021",
      "text/html": "<div>\n<style scoped>\n    .dataframe tbody tr th:only-of-type {\n        vertical-align: middle;\n    }\n\n    .dataframe tbody tr th {\n        vertical-align: top;\n    }\n\n    .dataframe thead th {\n        text-align: right;\n    }\n</style>\n<table border=\"1\" class=\"dataframe\">\n  <thead>\n    <tr style=\"text-align: right;\">\n      <th></th>\n      <th>id</th>\n      <th>timestamp</th>\n      <th>value_kwh</th>\n      <th>year</th>\n    </tr>\n  </thead>\n  <tbody>\n    <tr>\n      <th>0</th>\n      <td>f75148515d279e2c6c36207fa4002faf</td>\n      <td>2021-05-08T00:15:00.000Z</td>\n      <td>0.0</td>\n      <td>2021</td>\n    </tr>\n    <tr>\n      <th>1</th>\n      <td>f75148515d279e2c6c36207fa4002faf</td>\n      <td>2021-01-30T06:30:00.000Z</td>\n      <td>0.0</td>\n      <td>2021</td>\n    </tr>\n    <tr>\n      <th>2</th>\n      <td>f75148515d279e2c6c36207fa4002faf</td>\n      <td>2021-01-25T23:15:00.000Z</td>\n      <td>0.0</td>\n      <td>2021</td>\n    </tr>\n    <tr>\n      <th>3</th>\n      <td>f75148515d279e2c6c36207fa4002faf</td>\n      <td>2021-02-03T18:30:00.000Z</td>\n      <td>0.0</td>\n      <td>2021</td>\n    </tr>\n    <tr>\n      <th>4</th>\n      <td>f75148515d279e2c6c36207fa4002faf</td>\n      <td>2021-06-17T19:15:00.000Z</td>\n      <td>0.0</td>\n      <td>2021</td>\n    </tr>\n  </tbody>\n</table>\n</div>"
     },
     "execution_count": 155,
     "metadata": {},
     "output_type": "execute_result"
    }
   ],
   "execution_count": 155
  },
  {
   "metadata": {
    "ExecuteTime": {
     "end_time": "2024-09-12T20:21:37.178752Z",
     "start_time": "2024-09-12T20:21:34.930396Z"
    }
   },
   "cell_type": "code",
   "source": [
    "# Add month column\n",
    "sample_df['timestamp'] = pd.to_datetime(sample_df['timestamp'])\n",
    "sample_df['year_month'] = sample_df['timestamp'].dt.to_period('M')\n",
    "sample_df"
   ],
   "id": "422104cbbda792c1",
   "outputs": [
    {
     "name": "stderr",
     "output_type": "stream",
     "text": [
      "/var/folders/hh/vz7rsbq10c71_9h873rwpw7w0000gn/T/ipykernel_44801/3963185989.py:3: UserWarning: Converting to PeriodArray/Index representation will drop timezone information.\n",
      "  sample_df['year_month'] = sample_df['timestamp'].dt.to_period('M')\n"
     ]
    },
    {
     "data": {
      "text/plain": "                                       id                 timestamp  \\\n0        f75148515d279e2c6c36207fa4002faf 2021-05-08 00:15:00+00:00   \n1        f75148515d279e2c6c36207fa4002faf 2021-01-30 06:30:00+00:00   \n2        f75148515d279e2c6c36207fa4002faf 2021-01-25 23:15:00+00:00   \n3        f75148515d279e2c6c36207fa4002faf 2021-02-03 18:30:00+00:00   \n4        f75148515d279e2c6c36207fa4002faf 2021-06-17 19:15:00+00:00   \n...                                   ...                       ...   \n1168001  c33ffe928e1b305d0df6ca2639664949 2021-09-05 17:30:00+00:00   \n1168002  c33ffe928e1b305d0df6ca2639664949 2021-03-17 12:45:00+00:00   \n1168003  c33ffe928e1b305d0df6ca2639664949 2021-04-10 05:15:00+00:00   \n1168004  c33ffe928e1b305d0df6ca2639664949 2021-04-18 17:30:00+00:00   \n1168005  c33ffe928e1b305d0df6ca2639664949 2021-11-25 23:30:00+00:00   \n\n         value_kwh  year year_month  \n0            0.000  2021    2021-05  \n1            0.000  2021    2021-01  \n2            0.000  2021    2021-01  \n3            0.000  2021    2021-02  \n4            0.000  2021    2021-06  \n...            ...   ...        ...  \n1168001      0.019  2021    2021-09  \n1168002      0.020  2021    2021-03  \n1168003      0.007  2021    2021-04  \n1168004      0.006  2021    2021-04  \n1168005      0.015  2021    2021-11  \n\n[3504000 rows x 5 columns]",
      "text/html": "<div>\n<style scoped>\n    .dataframe tbody tr th:only-of-type {\n        vertical-align: middle;\n    }\n\n    .dataframe tbody tr th {\n        vertical-align: top;\n    }\n\n    .dataframe thead th {\n        text-align: right;\n    }\n</style>\n<table border=\"1\" class=\"dataframe\">\n  <thead>\n    <tr style=\"text-align: right;\">\n      <th></th>\n      <th>id</th>\n      <th>timestamp</th>\n      <th>value_kwh</th>\n      <th>year</th>\n      <th>year_month</th>\n    </tr>\n  </thead>\n  <tbody>\n    <tr>\n      <th>0</th>\n      <td>f75148515d279e2c6c36207fa4002faf</td>\n      <td>2021-05-08 00:15:00+00:00</td>\n      <td>0.000</td>\n      <td>2021</td>\n      <td>2021-05</td>\n    </tr>\n    <tr>\n      <th>1</th>\n      <td>f75148515d279e2c6c36207fa4002faf</td>\n      <td>2021-01-30 06:30:00+00:00</td>\n      <td>0.000</td>\n      <td>2021</td>\n      <td>2021-01</td>\n    </tr>\n    <tr>\n      <th>2</th>\n      <td>f75148515d279e2c6c36207fa4002faf</td>\n      <td>2021-01-25 23:15:00+00:00</td>\n      <td>0.000</td>\n      <td>2021</td>\n      <td>2021-01</td>\n    </tr>\n    <tr>\n      <th>3</th>\n      <td>f75148515d279e2c6c36207fa4002faf</td>\n      <td>2021-02-03 18:30:00+00:00</td>\n      <td>0.000</td>\n      <td>2021</td>\n      <td>2021-02</td>\n    </tr>\n    <tr>\n      <th>4</th>\n      <td>f75148515d279e2c6c36207fa4002faf</td>\n      <td>2021-06-17 19:15:00+00:00</td>\n      <td>0.000</td>\n      <td>2021</td>\n      <td>2021-06</td>\n    </tr>\n    <tr>\n      <th>...</th>\n      <td>...</td>\n      <td>...</td>\n      <td>...</td>\n      <td>...</td>\n      <td>...</td>\n    </tr>\n    <tr>\n      <th>1168001</th>\n      <td>c33ffe928e1b305d0df6ca2639664949</td>\n      <td>2021-09-05 17:30:00+00:00</td>\n      <td>0.019</td>\n      <td>2021</td>\n      <td>2021-09</td>\n    </tr>\n    <tr>\n      <th>1168002</th>\n      <td>c33ffe928e1b305d0df6ca2639664949</td>\n      <td>2021-03-17 12:45:00+00:00</td>\n      <td>0.020</td>\n      <td>2021</td>\n      <td>2021-03</td>\n    </tr>\n    <tr>\n      <th>1168003</th>\n      <td>c33ffe928e1b305d0df6ca2639664949</td>\n      <td>2021-04-10 05:15:00+00:00</td>\n      <td>0.007</td>\n      <td>2021</td>\n      <td>2021-04</td>\n    </tr>\n    <tr>\n      <th>1168004</th>\n      <td>c33ffe928e1b305d0df6ca2639664949</td>\n      <td>2021-04-18 17:30:00+00:00</td>\n      <td>0.006</td>\n      <td>2021</td>\n      <td>2021-04</td>\n    </tr>\n    <tr>\n      <th>1168005</th>\n      <td>c33ffe928e1b305d0df6ca2639664949</td>\n      <td>2021-11-25 23:30:00+00:00</td>\n      <td>0.015</td>\n      <td>2021</td>\n      <td>2021-11</td>\n    </tr>\n  </tbody>\n</table>\n<p>3504000 rows × 5 columns</p>\n</div>"
     },
     "execution_count": 156,
     "metadata": {},
     "output_type": "execute_result"
    }
   ],
   "execution_count": 156
  },
  {
   "cell_type": "code",
   "outputs": [
    {
     "data": {
      "text/plain": "                                       id                 timestamp  \\\n277418   035293b7f95ace18fc6c574cc4e6cc74 2021-01-01 00:00:00+00:00   \n137121   035293b7f95ace18fc6c574cc4e6cc74 2021-01-01 00:15:00+00:00   \n270796   035293b7f95ace18fc6c574cc4e6cc74 2021-01-01 00:30:00+00:00   \n603670   035293b7f95ace18fc6c574cc4e6cc74 2021-01-01 00:45:00+00:00   \n686382   035293b7f95ace18fc6c574cc4e6cc74 2021-01-01 01:00:00+00:00   \n...                                   ...                       ...   \n629793   ff010cb3b00651e7e6ef2788f7904c08 2021-12-31 22:45:00+00:00   \n1050075  ff010cb3b00651e7e6ef2788f7904c08 2021-12-31 23:00:00+00:00   \n634643   ff010cb3b00651e7e6ef2788f7904c08 2021-12-31 23:15:00+00:00   \n885376   ff010cb3b00651e7e6ef2788f7904c08 2021-12-31 23:30:00+00:00   \n582206   ff010cb3b00651e7e6ef2788f7904c08 2021-12-31 23:45:00+00:00   \n\n         value_kwh  year year_month  \n277418       0.026  2021    2021-01  \n137121       0.047  2021    2021-01  \n270796       0.036  2021    2021-01  \n603670       0.065  2021    2021-01  \n686382       0.030  2021    2021-01  \n...            ...   ...        ...  \n629793       0.010  2021    2021-12  \n1050075      0.009  2021    2021-12  \n634643       0.010  2021    2021-12  \n885376       0.469  2021    2021-12  \n582206       0.032  2021    2021-12  \n\n[3504000 rows x 5 columns]",
      "text/html": "<div>\n<style scoped>\n    .dataframe tbody tr th:only-of-type {\n        vertical-align: middle;\n    }\n\n    .dataframe tbody tr th {\n        vertical-align: top;\n    }\n\n    .dataframe thead th {\n        text-align: right;\n    }\n</style>\n<table border=\"1\" class=\"dataframe\">\n  <thead>\n    <tr style=\"text-align: right;\">\n      <th></th>\n      <th>id</th>\n      <th>timestamp</th>\n      <th>value_kwh</th>\n      <th>year</th>\n      <th>year_month</th>\n    </tr>\n  </thead>\n  <tbody>\n    <tr>\n      <th>277418</th>\n      <td>035293b7f95ace18fc6c574cc4e6cc74</td>\n      <td>2021-01-01 00:00:00+00:00</td>\n      <td>0.026</td>\n      <td>2021</td>\n      <td>2021-01</td>\n    </tr>\n    <tr>\n      <th>137121</th>\n      <td>035293b7f95ace18fc6c574cc4e6cc74</td>\n      <td>2021-01-01 00:15:00+00:00</td>\n      <td>0.047</td>\n      <td>2021</td>\n      <td>2021-01</td>\n    </tr>\n    <tr>\n      <th>270796</th>\n      <td>035293b7f95ace18fc6c574cc4e6cc74</td>\n      <td>2021-01-01 00:30:00+00:00</td>\n      <td>0.036</td>\n      <td>2021</td>\n      <td>2021-01</td>\n    </tr>\n    <tr>\n      <th>603670</th>\n      <td>035293b7f95ace18fc6c574cc4e6cc74</td>\n      <td>2021-01-01 00:45:00+00:00</td>\n      <td>0.065</td>\n      <td>2021</td>\n      <td>2021-01</td>\n    </tr>\n    <tr>\n      <th>686382</th>\n      <td>035293b7f95ace18fc6c574cc4e6cc74</td>\n      <td>2021-01-01 01:00:00+00:00</td>\n      <td>0.030</td>\n      <td>2021</td>\n      <td>2021-01</td>\n    </tr>\n    <tr>\n      <th>...</th>\n      <td>...</td>\n      <td>...</td>\n      <td>...</td>\n      <td>...</td>\n      <td>...</td>\n    </tr>\n    <tr>\n      <th>629793</th>\n      <td>ff010cb3b00651e7e6ef2788f7904c08</td>\n      <td>2021-12-31 22:45:00+00:00</td>\n      <td>0.010</td>\n      <td>2021</td>\n      <td>2021-12</td>\n    </tr>\n    <tr>\n      <th>1050075</th>\n      <td>ff010cb3b00651e7e6ef2788f7904c08</td>\n      <td>2021-12-31 23:00:00+00:00</td>\n      <td>0.009</td>\n      <td>2021</td>\n      <td>2021-12</td>\n    </tr>\n    <tr>\n      <th>634643</th>\n      <td>ff010cb3b00651e7e6ef2788f7904c08</td>\n      <td>2021-12-31 23:15:00+00:00</td>\n      <td>0.010</td>\n      <td>2021</td>\n      <td>2021-12</td>\n    </tr>\n    <tr>\n      <th>885376</th>\n      <td>ff010cb3b00651e7e6ef2788f7904c08</td>\n      <td>2021-12-31 23:30:00+00:00</td>\n      <td>0.469</td>\n      <td>2021</td>\n      <td>2021-12</td>\n    </tr>\n    <tr>\n      <th>582206</th>\n      <td>ff010cb3b00651e7e6ef2788f7904c08</td>\n      <td>2021-12-31 23:45:00+00:00</td>\n      <td>0.032</td>\n      <td>2021</td>\n      <td>2021-12</td>\n    </tr>\n  </tbody>\n</table>\n<p>3504000 rows × 5 columns</p>\n</div>"
     },
     "execution_count": 157,
     "metadata": {},
     "output_type": "execute_result"
    }
   ],
   "source": [
    "sample_df_sorted = sample_df.sort_values(['id', 'year_month', 'timestamp'])\n",
    "sample_df_sorted"
   ],
   "metadata": {
    "collapsed": false,
    "ExecuteTime": {
     "end_time": "2024-09-12T20:21:46.722506Z",
     "start_time": "2024-09-12T20:21:45.792459Z"
    }
   },
   "id": "a3d20bd2e641f4d6",
   "execution_count": 157
  },
  {
   "cell_type": "code",
   "outputs": [],
   "source": [
    "time_delta_hours = 1\n",
    "time_delta = time_delta_hours * 4 # amount of 15 minute intervals"
   ],
   "metadata": {
    "collapsed": false,
    "ExecuteTime": {
     "end_time": "2024-09-12T20:21:48.261619Z",
     "start_time": "2024-09-12T20:21:48.257878Z"
    }
   },
   "id": "72a7af776cda4ee2",
   "execution_count": 158
  },
  {
   "cell_type": "code",
   "outputs": [
    {
     "data": {
      "text/plain": "                                       id                 timestamp  \\\n277418   035293b7f95ace18fc6c574cc4e6cc74 2021-01-01 00:00:00+00:00   \n137121   035293b7f95ace18fc6c574cc4e6cc74 2021-01-01 00:15:00+00:00   \n270796   035293b7f95ace18fc6c574cc4e6cc74 2021-01-01 00:30:00+00:00   \n603670   035293b7f95ace18fc6c574cc4e6cc74 2021-01-01 00:45:00+00:00   \n686382   035293b7f95ace18fc6c574cc4e6cc74 2021-01-01 01:00:00+00:00   \n...                                   ...                       ...   \n629793   ff010cb3b00651e7e6ef2788f7904c08 2021-12-31 22:45:00+00:00   \n1050075  ff010cb3b00651e7e6ef2788f7904c08 2021-12-31 23:00:00+00:00   \n634643   ff010cb3b00651e7e6ef2788f7904c08 2021-12-31 23:15:00+00:00   \n885376   ff010cb3b00651e7e6ef2788f7904c08 2021-12-31 23:30:00+00:00   \n582206   ff010cb3b00651e7e6ef2788f7904c08 2021-12-31 23:45:00+00:00   \n\n         value_kwh  year year_month  last_value  demand_change_kwh  \n277418       0.026  2021    2021-01       0.000              0.000  \n137121       0.047  2021    2021-01       0.000              0.000  \n270796       0.036  2021    2021-01       0.000              0.000  \n603670       0.065  2021    2021-01       0.000              0.000  \n686382       0.030  2021    2021-01       0.026              0.004  \n...            ...   ...        ...         ...                ...  \n629793       0.010  2021    2021-12       0.009              0.001  \n1050075      0.009  2021    2021-12       0.278             -0.269  \n634643       0.010  2021    2021-12       0.257             -0.247  \n885376       0.469  2021    2021-12       0.009              0.460  \n582206       0.032  2021    2021-12       0.010              0.022  \n\n[3504000 rows x 7 columns]",
      "text/html": "<div>\n<style scoped>\n    .dataframe tbody tr th:only-of-type {\n        vertical-align: middle;\n    }\n\n    .dataframe tbody tr th {\n        vertical-align: top;\n    }\n\n    .dataframe thead th {\n        text-align: right;\n    }\n</style>\n<table border=\"1\" class=\"dataframe\">\n  <thead>\n    <tr style=\"text-align: right;\">\n      <th></th>\n      <th>id</th>\n      <th>timestamp</th>\n      <th>value_kwh</th>\n      <th>year</th>\n      <th>year_month</th>\n      <th>last_value</th>\n      <th>demand_change_kwh</th>\n    </tr>\n  </thead>\n  <tbody>\n    <tr>\n      <th>277418</th>\n      <td>035293b7f95ace18fc6c574cc4e6cc74</td>\n      <td>2021-01-01 00:00:00+00:00</td>\n      <td>0.026</td>\n      <td>2021</td>\n      <td>2021-01</td>\n      <td>0.000</td>\n      <td>0.000</td>\n    </tr>\n    <tr>\n      <th>137121</th>\n      <td>035293b7f95ace18fc6c574cc4e6cc74</td>\n      <td>2021-01-01 00:15:00+00:00</td>\n      <td>0.047</td>\n      <td>2021</td>\n      <td>2021-01</td>\n      <td>0.000</td>\n      <td>0.000</td>\n    </tr>\n    <tr>\n      <th>270796</th>\n      <td>035293b7f95ace18fc6c574cc4e6cc74</td>\n      <td>2021-01-01 00:30:00+00:00</td>\n      <td>0.036</td>\n      <td>2021</td>\n      <td>2021-01</td>\n      <td>0.000</td>\n      <td>0.000</td>\n    </tr>\n    <tr>\n      <th>603670</th>\n      <td>035293b7f95ace18fc6c574cc4e6cc74</td>\n      <td>2021-01-01 00:45:00+00:00</td>\n      <td>0.065</td>\n      <td>2021</td>\n      <td>2021-01</td>\n      <td>0.000</td>\n      <td>0.000</td>\n    </tr>\n    <tr>\n      <th>686382</th>\n      <td>035293b7f95ace18fc6c574cc4e6cc74</td>\n      <td>2021-01-01 01:00:00+00:00</td>\n      <td>0.030</td>\n      <td>2021</td>\n      <td>2021-01</td>\n      <td>0.026</td>\n      <td>0.004</td>\n    </tr>\n    <tr>\n      <th>...</th>\n      <td>...</td>\n      <td>...</td>\n      <td>...</td>\n      <td>...</td>\n      <td>...</td>\n      <td>...</td>\n      <td>...</td>\n    </tr>\n    <tr>\n      <th>629793</th>\n      <td>ff010cb3b00651e7e6ef2788f7904c08</td>\n      <td>2021-12-31 22:45:00+00:00</td>\n      <td>0.010</td>\n      <td>2021</td>\n      <td>2021-12</td>\n      <td>0.009</td>\n      <td>0.001</td>\n    </tr>\n    <tr>\n      <th>1050075</th>\n      <td>ff010cb3b00651e7e6ef2788f7904c08</td>\n      <td>2021-12-31 23:00:00+00:00</td>\n      <td>0.009</td>\n      <td>2021</td>\n      <td>2021-12</td>\n      <td>0.278</td>\n      <td>-0.269</td>\n    </tr>\n    <tr>\n      <th>634643</th>\n      <td>ff010cb3b00651e7e6ef2788f7904c08</td>\n      <td>2021-12-31 23:15:00+00:00</td>\n      <td>0.010</td>\n      <td>2021</td>\n      <td>2021-12</td>\n      <td>0.257</td>\n      <td>-0.247</td>\n    </tr>\n    <tr>\n      <th>885376</th>\n      <td>ff010cb3b00651e7e6ef2788f7904c08</td>\n      <td>2021-12-31 23:30:00+00:00</td>\n      <td>0.469</td>\n      <td>2021</td>\n      <td>2021-12</td>\n      <td>0.009</td>\n      <td>0.460</td>\n    </tr>\n    <tr>\n      <th>582206</th>\n      <td>ff010cb3b00651e7e6ef2788f7904c08</td>\n      <td>2021-12-31 23:45:00+00:00</td>\n      <td>0.032</td>\n      <td>2021</td>\n      <td>2021-12</td>\n      <td>0.010</td>\n      <td>0.022</td>\n    </tr>\n  </tbody>\n</table>\n<p>3504000 rows × 7 columns</p>\n</div>"
     },
     "execution_count": 159,
     "metadata": {},
     "output_type": "execute_result"
    }
   ],
   "source": [
    "df_derivative = sample_df_sorted\n",
    "df_derivative['last_value'] = df_derivative.groupby(['id', 'year_month'])['value_kwh'].shift(int(time_delta))\n",
    "df_derivative['demand_change_kwh'] = df_derivative['value_kwh'] - df_derivative['last_value']\n",
    "df_derivative.fillna(0, inplace=True)\n",
    "\n",
    "df_derivative"
   ],
   "metadata": {
    "collapsed": false,
    "ExecuteTime": {
     "end_time": "2024-09-12T20:21:50.131915Z",
     "start_time": "2024-09-12T20:21:49.781943Z"
    }
   },
   "id": "6f868c6cf4804a07",
   "execution_count": 159
  },
  {
   "cell_type": "code",
   "outputs": [],
   "source": [
    "# def apodize(signal, window_type='hamming', alpha=2.5):\n",
    "#     \"\"\"\n",
    "#     Apply apodization (windowing) to a signal.\n",
    "# \n",
    "#     Parameters:\n",
    "#         signal (np.array): The input signal to be apodized.\n",
    "#         window_type (str): The type of window function to apply.\n",
    "#                            Options: 'hamming', 'hanning', 'blackman', 'gaussian', 'kaiser'.\n",
    "#         alpha (float): Shape parameter for the Gaussian or Kaiser window (if applicable).\n",
    "# \n",
    "#     Returns:\n",
    "#         np.array: The apodized signal.\n",
    "#     \"\"\"\n",
    "# \n",
    "#     N = len(signal)  # Length of the signal\n",
    "# \n",
    "#     # Select the window type\n",
    "#     if window_type == 'hamming':\n",
    "#         window = np.hamming(N)\n",
    "#     elif window_type == 'hanning':\n",
    "#         window = np.hanning(N)\n",
    "#     elif window_type == 'blackman':\n",
    "#         window = np.blackman(N)\n",
    "#     elif window_type == 'gaussian':\n",
    "#         window = np.exp(-0.5 * ((np.arange(N) - N/2) / (alpha * N/2))**2)\n",
    "#     elif window_type == 'kaiser':\n",
    "#         window = np.kaiser(N, alpha)\n",
    "#     else:\n",
    "#         raise ValueError(f\"Unsupported window type: {window_type}\")\n",
    "# \n",
    "#     # Apply the window to the signal\n",
    "#     apodized_signal = signal * window\n",
    "# \n",
    "#     return apodized_signal\n"
   ],
   "metadata": {
    "collapsed": false,
    "ExecuteTime": {
     "end_time": "2024-09-12T20:21:51.406781Z",
     "start_time": "2024-09-12T20:21:51.404928Z"
    }
   },
   "id": "c95a2a8e315324a3",
   "execution_count": 160
  },
  {
   "cell_type": "code",
   "outputs": [],
   "source": [
    "#def max_apodize(signal, window_type='hamming', alpha=0.05):\n",
    "#    return apodize(signal, window_type=window_type, alpha=alpha).max()"
   ],
   "metadata": {
    "collapsed": false,
    "ExecuteTime": {
     "end_time": "2024-09-12T20:21:55.167125Z",
     "start_time": "2024-09-12T20:21:55.161746Z"
    }
   },
   "id": "d38a76f0f2a8776",
   "execution_count": 161
  },
  {
   "cell_type": "code",
   "outputs": [],
   "source": [
    "#def min_apodize(signal, window_type='hamming', alpha=0.05):\n",
    "#    return apodize(signal, window_type=window_type, alpha=alpha).min()"
   ],
   "metadata": {
    "collapsed": false,
    "ExecuteTime": {
     "end_time": "2024-09-12T20:22:29.724695Z",
     "start_time": "2024-09-12T20:22:29.722882Z"
    }
   },
   "id": "598b6dd79f16dbd",
   "execution_count": 164
  },
  {
   "cell_type": "code",
   "outputs": [],
   "source": [
    "rolling_average = 5"
   ],
   "metadata": {
    "collapsed": false,
    "ExecuteTime": {
     "end_time": "2024-09-12T20:22:30.277544Z",
     "start_time": "2024-09-12T20:22:30.258508Z"
    }
   },
   "id": "a94c8f26ff15c45",
   "execution_count": 165
  },
  {
   "cell_type": "code",
   "outputs": [],
   "source": [
    "def smooth_signal(signal, window_size=rolling_average):\n",
    "    \"\"\"\n",
    "    Smooth the input signal using a rolling mean (moving average).\n",
    "    \n",
    "    Parameters:\n",
    "        signal (np.array): The input signal to be smoothed.\n",
    "        window_size (int): The size of the rolling window (must be odd).\n",
    "    \n",
    "    Returns:\n",
    "        np.array: The smoothed signal.\n",
    "    \"\"\"\n",
    "    if window_size % 2 == 0:\n",
    "        raise ValueError(\"Window size must be odd to keep symmetry.\")\n",
    "    \n",
    "    # Convert to pandas Series to use rolling mean\n",
    "    signal_series = pd.Series(signal)\n",
    "    \n",
    "    # Apply rolling mean\n",
    "    smoothed_signal = signal_series.rolling(window=window_size, center=True, min_periods=1).mean().to_numpy()\n",
    "    \n",
    "    return smoothed_signal"
   ],
   "metadata": {
    "collapsed": false,
    "ExecuteTime": {
     "end_time": "2024-09-12T20:22:30.884692Z",
     "start_time": "2024-09-12T20:22:30.881731Z"
    }
   },
   "id": "1cc3be869e6387ca",
   "execution_count": 166
  },
  {
   "cell_type": "code",
   "outputs": [],
   "source": [
    "def smooth_max(signal, window_size=rolling_average):\n",
    "    return smooth_signal(signal, window_size).max()\n",
    "\n",
    "def smooth_min(signal, window_size=rolling_average):\n",
    "    return smooth_signal(signal, window_size).min()"
   ],
   "metadata": {
    "collapsed": false,
    "ExecuteTime": {
     "end_time": "2024-09-12T20:22:31.663514Z",
     "start_time": "2024-09-12T20:22:31.661282Z"
    }
   },
   "id": "3b79c85c64f4a167",
   "execution_count": 167
  },
  {
   "cell_type": "code",
   "outputs": [],
   "source": [
    "from scipy.signal import savgol_filter\n",
    "\n",
    "savgol_order = 3\n",
    "\n",
    "def max_savgol(signal, window_size=rolling_average, polyorder=savgol_order):\n",
    "    return savgol_filter(signal, window_size, polyorder).max()\n",
    "\n",
    "def min_savgol(signal, window_size=rolling_average, polyorder=savgol_order):\n",
    "    return savgol_filter(signal, window_size, polyorder).min()\n"
   ],
   "metadata": {
    "collapsed": false,
    "ExecuteTime": {
     "end_time": "2024-09-12T20:22:32.391179Z",
     "start_time": "2024-09-12T20:22:32.389084Z"
    }
   },
   "id": "ebab5d717aa72d76",
   "execution_count": 168
  },
  {
   "metadata": {
    "ExecuteTime": {
     "end_time": "2024-09-12T20:22:33.920937Z",
     "start_time": "2024-09-12T20:22:32.998081Z"
    }
   },
   "cell_type": "code",
   "source": [
    "# Step 1: Group by 'id' and extract features\n",
    "agg_funcs = {\n",
    "    'value_kwh': ['mean', 'std', 'min', 'max'],\n",
    "    'demand_change_kwh': ['mean', 'std', 'max', smooth_max, max_savgol, 'min', smooth_min, min_savgol]\n",
    "}\n",
    "\n",
    "\n",
    "monthly_features_df = df_derivative.groupby(['id', 'year_month']).agg(agg_funcs)\n",
    "\n",
    "monthly_features_df"
   ],
   "id": "cf3b48946caf2df6",
   "outputs": [
    {
     "data": {
      "text/plain": "                                            value_kwh                          \\\n                                                 mean       std    min    max   \nid                               year_month                                     \n035293b7f95ace18fc6c574cc4e6cc74 2021-01     0.050968  0.018580  0.000  0.095   \n                                 2021-02     0.046885  0.019188  0.000  0.097   \n                                 2021-03     0.045167  0.018714  0.000  0.095   \n                                 2021-04     0.042099  0.018532  0.000  0.096   \n                                 2021-05     0.037923  0.018846  0.000  0.095   \n...                                               ...       ...    ...    ...   \nff010cb3b00651e7e6ef2788f7904c08 2021-08     0.021886  0.112757  0.002  0.909   \n                                 2021-09     0.022301  0.114516  0.002  0.904   \n                                 2021-10     0.094271  0.185862  0.003  0.917   \n                                 2021-11     0.135227  0.216254  0.005  0.907   \n                                 2021-12     0.154849  0.243728  0.009  2.143   \n\n                                            demand_change_kwh            \\\n                                                         mean       std   \nid                               year_month                               \n035293b7f95ace18fc6c574cc4e6cc74 2021-01        -7.728495e-06  0.023369   \n                                 2021-02         2.604167e-05  0.022901   \n                                 2021-03        -1.276882e-05  0.022326   \n                                 2021-04        -6.944444e-07  0.022818   \n                                 2021-05        -1.814516e-05  0.023058   \n...                                                       ...       ...   \nff010cb3b00651e7e6ef2788f7904c08 2021-08        -3.360215e-07  0.161654   \n                                 2021-09         1.156482e-19  0.164209   \n                                 2021-10         2.221102e-04  0.276113   \n                                 2021-11         8.090278e-05  0.334945   \n                                 2021-12        -2.217742e-05  0.340981   \n\n                                                                          \\\n                                               max smooth_max max_savgol   \nid                               year_month                                \n035293b7f95ace18fc6c574cc4e6cc74 2021-01     0.072     0.0414   0.056686   \n                                 2021-02     0.071     0.0350   0.052657   \n                                 2021-03     0.067     0.0348   0.053657   \n                                 2021-04     0.076     0.0312   0.054400   \n                                 2021-05     0.077     0.0458   0.077229   \n...                                            ...        ...        ...   \nff010cb3b00651e7e6ef2788f7904c08 2021-08     0.906     0.4450   0.853429   \n                                 2021-09     0.901     0.4348   0.785486   \n                                 2021-10     0.907     0.4880   0.785829   \n                                 2021-11     0.896     0.4906   0.827086   \n                                 2021-12     1.510     1.1750   1.584857   \n\n                                                                          \n                                               min smooth_min min_savgol  \nid                               year_month                               \n035293b7f95ace18fc6c574cc4e6cc74 2021-01    -0.090    -0.0454  -0.077314  \n                                 2021-02    -0.081    -0.0558  -0.077371  \n                                 2021-03    -0.078    -0.0478  -0.071314  \n                                 2021-04    -0.070    -0.0480  -0.065943  \n                                 2021-05    -0.074    -0.0490  -0.066257  \n...                                            ...        ...        ...  \nff010cb3b00651e7e6ef2788f7904c08 2021-08    -0.906    -0.4450  -0.859857  \n                                 2021-09    -0.901    -0.4348  -0.785486  \n                                 2021-10    -0.907    -0.4992  -0.923314  \n                                 2021-11    -0.897    -0.4906  -0.670400  \n                                 2021-12    -2.133    -1.1514  -1.564943  \n\n[1200 rows x 12 columns]",
      "text/html": "<div>\n<style scoped>\n    .dataframe tbody tr th:only-of-type {\n        vertical-align: middle;\n    }\n\n    .dataframe tbody tr th {\n        vertical-align: top;\n    }\n\n    .dataframe thead tr th {\n        text-align: left;\n    }\n\n    .dataframe thead tr:last-of-type th {\n        text-align: right;\n    }\n</style>\n<table border=\"1\" class=\"dataframe\">\n  <thead>\n    <tr>\n      <th></th>\n      <th></th>\n      <th colspan=\"4\" halign=\"left\">value_kwh</th>\n      <th colspan=\"8\" halign=\"left\">demand_change_kwh</th>\n    </tr>\n    <tr>\n      <th></th>\n      <th></th>\n      <th>mean</th>\n      <th>std</th>\n      <th>min</th>\n      <th>max</th>\n      <th>mean</th>\n      <th>std</th>\n      <th>max</th>\n      <th>smooth_max</th>\n      <th>max_savgol</th>\n      <th>min</th>\n      <th>smooth_min</th>\n      <th>min_savgol</th>\n    </tr>\n    <tr>\n      <th>id</th>\n      <th>year_month</th>\n      <th></th>\n      <th></th>\n      <th></th>\n      <th></th>\n      <th></th>\n      <th></th>\n      <th></th>\n      <th></th>\n      <th></th>\n      <th></th>\n      <th></th>\n      <th></th>\n    </tr>\n  </thead>\n  <tbody>\n    <tr>\n      <th rowspan=\"5\" valign=\"top\">035293b7f95ace18fc6c574cc4e6cc74</th>\n      <th>2021-01</th>\n      <td>0.050968</td>\n      <td>0.018580</td>\n      <td>0.000</td>\n      <td>0.095</td>\n      <td>-7.728495e-06</td>\n      <td>0.023369</td>\n      <td>0.072</td>\n      <td>0.0414</td>\n      <td>0.056686</td>\n      <td>-0.090</td>\n      <td>-0.0454</td>\n      <td>-0.077314</td>\n    </tr>\n    <tr>\n      <th>2021-02</th>\n      <td>0.046885</td>\n      <td>0.019188</td>\n      <td>0.000</td>\n      <td>0.097</td>\n      <td>2.604167e-05</td>\n      <td>0.022901</td>\n      <td>0.071</td>\n      <td>0.0350</td>\n      <td>0.052657</td>\n      <td>-0.081</td>\n      <td>-0.0558</td>\n      <td>-0.077371</td>\n    </tr>\n    <tr>\n      <th>2021-03</th>\n      <td>0.045167</td>\n      <td>0.018714</td>\n      <td>0.000</td>\n      <td>0.095</td>\n      <td>-1.276882e-05</td>\n      <td>0.022326</td>\n      <td>0.067</td>\n      <td>0.0348</td>\n      <td>0.053657</td>\n      <td>-0.078</td>\n      <td>-0.0478</td>\n      <td>-0.071314</td>\n    </tr>\n    <tr>\n      <th>2021-04</th>\n      <td>0.042099</td>\n      <td>0.018532</td>\n      <td>0.000</td>\n      <td>0.096</td>\n      <td>-6.944444e-07</td>\n      <td>0.022818</td>\n      <td>0.076</td>\n      <td>0.0312</td>\n      <td>0.054400</td>\n      <td>-0.070</td>\n      <td>-0.0480</td>\n      <td>-0.065943</td>\n    </tr>\n    <tr>\n      <th>2021-05</th>\n      <td>0.037923</td>\n      <td>0.018846</td>\n      <td>0.000</td>\n      <td>0.095</td>\n      <td>-1.814516e-05</td>\n      <td>0.023058</td>\n      <td>0.077</td>\n      <td>0.0458</td>\n      <td>0.077229</td>\n      <td>-0.074</td>\n      <td>-0.0490</td>\n      <td>-0.066257</td>\n    </tr>\n    <tr>\n      <th>...</th>\n      <th>...</th>\n      <td>...</td>\n      <td>...</td>\n      <td>...</td>\n      <td>...</td>\n      <td>...</td>\n      <td>...</td>\n      <td>...</td>\n      <td>...</td>\n      <td>...</td>\n      <td>...</td>\n      <td>...</td>\n      <td>...</td>\n    </tr>\n    <tr>\n      <th rowspan=\"5\" valign=\"top\">ff010cb3b00651e7e6ef2788f7904c08</th>\n      <th>2021-08</th>\n      <td>0.021886</td>\n      <td>0.112757</td>\n      <td>0.002</td>\n      <td>0.909</td>\n      <td>-3.360215e-07</td>\n      <td>0.161654</td>\n      <td>0.906</td>\n      <td>0.4450</td>\n      <td>0.853429</td>\n      <td>-0.906</td>\n      <td>-0.4450</td>\n      <td>-0.859857</td>\n    </tr>\n    <tr>\n      <th>2021-09</th>\n      <td>0.022301</td>\n      <td>0.114516</td>\n      <td>0.002</td>\n      <td>0.904</td>\n      <td>1.156482e-19</td>\n      <td>0.164209</td>\n      <td>0.901</td>\n      <td>0.4348</td>\n      <td>0.785486</td>\n      <td>-0.901</td>\n      <td>-0.4348</td>\n      <td>-0.785486</td>\n    </tr>\n    <tr>\n      <th>2021-10</th>\n      <td>0.094271</td>\n      <td>0.185862</td>\n      <td>0.003</td>\n      <td>0.917</td>\n      <td>2.221102e-04</td>\n      <td>0.276113</td>\n      <td>0.907</td>\n      <td>0.4880</td>\n      <td>0.785829</td>\n      <td>-0.907</td>\n      <td>-0.4992</td>\n      <td>-0.923314</td>\n    </tr>\n    <tr>\n      <th>2021-11</th>\n      <td>0.135227</td>\n      <td>0.216254</td>\n      <td>0.005</td>\n      <td>0.907</td>\n      <td>8.090278e-05</td>\n      <td>0.334945</td>\n      <td>0.896</td>\n      <td>0.4906</td>\n      <td>0.827086</td>\n      <td>-0.897</td>\n      <td>-0.4906</td>\n      <td>-0.670400</td>\n    </tr>\n    <tr>\n      <th>2021-12</th>\n      <td>0.154849</td>\n      <td>0.243728</td>\n      <td>0.009</td>\n      <td>2.143</td>\n      <td>-2.217742e-05</td>\n      <td>0.340981</td>\n      <td>1.510</td>\n      <td>1.1750</td>\n      <td>1.584857</td>\n      <td>-2.133</td>\n      <td>-1.1514</td>\n      <td>-1.564943</td>\n    </tr>\n  </tbody>\n</table>\n<p>1200 rows × 12 columns</p>\n</div>"
     },
     "execution_count": 169,
     "metadata": {},
     "output_type": "execute_result"
    }
   ],
   "execution_count": 169
  }
 ],
 "metadata": {
  "kernelspec": {
   "display_name": "Python 3",
   "language": "python",
   "name": "python3"
  },
  "language_info": {
   "codemirror_mode": {
    "name": "ipython",
    "version": 2
   },
   "file_extension": ".py",
   "mimetype": "text/x-python",
   "name": "python",
   "nbconvert_exporter": "python",
   "pygments_lexer": "ipython2",
   "version": "2.7.6"
  }
 },
 "nbformat": 4,
 "nbformat_minor": 5
}
