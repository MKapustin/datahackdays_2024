{
 "cells": [
  {
   "cell_type": "code",
   "id": "initial_id",
   "metadata": {
    "collapsed": true,
    "ExecuteTime": {
     "end_time": "2024-09-13T07:16:13.356814Z",
     "start_time": "2024-09-13T07:16:13.354111Z"
    }
   },
   "source": [
    "import pandas as pd\n",
    "import random\n",
    "import dask.dataframe as dd\n",
    "from sklearn.cluster import MiniBatchKMeans\n",
    "from sklearn.preprocessing import StandardScaler\n",
    "import matplotlib.pyplot as plt\n",
    "import datetime as dt\n",
    "import numpy as np\n",
    "\n"
   ],
   "outputs": [],
   "execution_count": 171
  },
  {
   "metadata": {
    "ExecuteTime": {
     "end_time": "2024-09-13T07:16:36.464829Z",
     "start_time": "2024-09-13T07:16:15.964579Z"
    }
   },
   "cell_type": "code",
   "source": [
    "# ddf = dd.read_csv(timeseries_file_path)\n",
    "# \n",
    "# # Randomly sample 1% of the dataset\n",
    "# sample_ddf = ddf.sample(frac=0.01)\n",
    "# \n",
    "# # Compute the sample, converting the Dask DataFrame to a Pandas DataFrame\n",
    "# sample_df = sample_ddf.compute()\n",
    "# \n",
    "# print(sample_df.head())\n",
    "\n",
    "sample_df = dd.read_csv('/Users/fionaturner-hehlen/Desktop/EnergyDataHackdays2024/1775_15_2023.csv').compute()\n",
    "sample_df.head()"
   ],
   "id": "72e56a7a32b2b737",
   "outputs": [
    {
     "data": {
      "text/plain": "                                 id                 timestamp  value_kwh  year\n0  ada3c59761422f60162dd6ea3a7033b1  2023-01-27T14:30:00.000Z      0.024  2023\n1  be6dea6f3c91664b87e017bd5d5cb23f  2023-02-05T15:00:00.000Z      0.026  2023\n2  ada3c59761422f60162dd6ea3a7033b1  2023-02-18T02:45:00.000Z      1.074  2023\n3  28f726da1433e47d62ec7f3f35c9eb86  2023-03-04T09:15:00.000Z      0.096  2023\n4  9c954122d1f4cf0240dba66706cc94dc  2023-03-08T06:00:00.000Z      0.040  2023",
      "text/html": "<div>\n<style scoped>\n    .dataframe tbody tr th:only-of-type {\n        vertical-align: middle;\n    }\n\n    .dataframe tbody tr th {\n        vertical-align: top;\n    }\n\n    .dataframe thead th {\n        text-align: right;\n    }\n</style>\n<table border=\"1\" class=\"dataframe\">\n  <thead>\n    <tr style=\"text-align: right;\">\n      <th></th>\n      <th>id</th>\n      <th>timestamp</th>\n      <th>value_kwh</th>\n      <th>year</th>\n    </tr>\n  </thead>\n  <tbody>\n    <tr>\n      <th>0</th>\n      <td>ada3c59761422f60162dd6ea3a7033b1</td>\n      <td>2023-01-27T14:30:00.000Z</td>\n      <td>0.024</td>\n      <td>2023</td>\n    </tr>\n    <tr>\n      <th>1</th>\n      <td>be6dea6f3c91664b87e017bd5d5cb23f</td>\n      <td>2023-02-05T15:00:00.000Z</td>\n      <td>0.026</td>\n      <td>2023</td>\n    </tr>\n    <tr>\n      <th>2</th>\n      <td>ada3c59761422f60162dd6ea3a7033b1</td>\n      <td>2023-02-18T02:45:00.000Z</td>\n      <td>1.074</td>\n      <td>2023</td>\n    </tr>\n    <tr>\n      <th>3</th>\n      <td>28f726da1433e47d62ec7f3f35c9eb86</td>\n      <td>2023-03-04T09:15:00.000Z</td>\n      <td>0.096</td>\n      <td>2023</td>\n    </tr>\n    <tr>\n      <th>4</th>\n      <td>9c954122d1f4cf0240dba66706cc94dc</td>\n      <td>2023-03-08T06:00:00.000Z</td>\n      <td>0.040</td>\n      <td>2023</td>\n    </tr>\n  </tbody>\n</table>\n</div>"
     },
     "execution_count": 172,
     "metadata": {},
     "output_type": "execute_result"
    }
   ],
   "execution_count": 172
  },
  {
   "metadata": {
    "ExecuteTime": {
     "end_time": "2024-09-13T07:17:34.808536Z",
     "start_time": "2024-09-13T07:16:50.542302Z"
    }
   },
   "cell_type": "code",
   "source": [
    "# Add month column\n",
    "sample_df['timestamp'] = pd.to_datetime(sample_df['timestamp'])\n",
    "sample_df['year_month'] = sample_df['timestamp'].dt.to_period('M')\n",
    "sample_df"
   ],
   "id": "422104cbbda792c1",
   "outputs": [
    {
     "name": "stderr",
     "output_type": "stream",
     "text": [
      "/var/folders/hh/vz7rsbq10c71_9h873rwpw7w0000gn/T/ipykernel_44801/3963185989.py:3: UserWarning: Converting to PeriodArray/Index representation will drop timezone information.\n",
      "  sample_df['year_month'] = sample_df['timestamp'].dt.to_period('M')\n"
     ]
    },
    {
     "data": {
      "text/plain": "                                      id                 timestamp  value_kwh  \\\n0       ada3c59761422f60162dd6ea3a7033b1 2023-01-27 14:30:00+00:00      0.024   \n1       be6dea6f3c91664b87e017bd5d5cb23f 2023-02-05 15:00:00+00:00      0.026   \n2       ada3c59761422f60162dd6ea3a7033b1 2023-02-18 02:45:00+00:00      1.074   \n3       28f726da1433e47d62ec7f3f35c9eb86 2023-03-04 09:15:00+00:00      0.096   \n4       9c954122d1f4cf0240dba66706cc94dc 2023-03-08 06:00:00+00:00      0.040   \n...                                  ...                       ...        ...   \n934065  75c28395e3c1adc267ae47b89839fa1d 2023-02-16 20:15:00+00:00      0.060   \n934066  75c28395e3c1adc267ae47b89839fa1d 2023-08-18 14:15:00+00:00      0.230   \n934067  75c28395e3c1adc267ae47b89839fa1d 2023-02-13 20:15:00+00:00      0.110   \n934068  75c28395e3c1adc267ae47b89839fa1d 2023-10-02 10:15:00+00:00      0.150   \n934069  75c28395e3c1adc267ae47b89839fa1d 2023-01-24 18:00:00+00:00      0.050   \n\n        year year_month  \n0       2023    2023-01  \n1       2023    2023-02  \n2       2023    2023-02  \n3       2023    2023-03  \n4       2023    2023-03  \n...      ...        ...  \n934065  2023    2023-02  \n934066  2023    2023-08  \n934067  2023    2023-02  \n934068  2023    2023-10  \n934069  2023    2023-01  \n\n[70055320 rows x 5 columns]",
      "text/html": "<div>\n<style scoped>\n    .dataframe tbody tr th:only-of-type {\n        vertical-align: middle;\n    }\n\n    .dataframe tbody tr th {\n        vertical-align: top;\n    }\n\n    .dataframe thead th {\n        text-align: right;\n    }\n</style>\n<table border=\"1\" class=\"dataframe\">\n  <thead>\n    <tr style=\"text-align: right;\">\n      <th></th>\n      <th>id</th>\n      <th>timestamp</th>\n      <th>value_kwh</th>\n      <th>year</th>\n      <th>year_month</th>\n    </tr>\n  </thead>\n  <tbody>\n    <tr>\n      <th>0</th>\n      <td>ada3c59761422f60162dd6ea3a7033b1</td>\n      <td>2023-01-27 14:30:00+00:00</td>\n      <td>0.024</td>\n      <td>2023</td>\n      <td>2023-01</td>\n    </tr>\n    <tr>\n      <th>1</th>\n      <td>be6dea6f3c91664b87e017bd5d5cb23f</td>\n      <td>2023-02-05 15:00:00+00:00</td>\n      <td>0.026</td>\n      <td>2023</td>\n      <td>2023-02</td>\n    </tr>\n    <tr>\n      <th>2</th>\n      <td>ada3c59761422f60162dd6ea3a7033b1</td>\n      <td>2023-02-18 02:45:00+00:00</td>\n      <td>1.074</td>\n      <td>2023</td>\n      <td>2023-02</td>\n    </tr>\n    <tr>\n      <th>3</th>\n      <td>28f726da1433e47d62ec7f3f35c9eb86</td>\n      <td>2023-03-04 09:15:00+00:00</td>\n      <td>0.096</td>\n      <td>2023</td>\n      <td>2023-03</td>\n    </tr>\n    <tr>\n      <th>4</th>\n      <td>9c954122d1f4cf0240dba66706cc94dc</td>\n      <td>2023-03-08 06:00:00+00:00</td>\n      <td>0.040</td>\n      <td>2023</td>\n      <td>2023-03</td>\n    </tr>\n    <tr>\n      <th>...</th>\n      <td>...</td>\n      <td>...</td>\n      <td>...</td>\n      <td>...</td>\n      <td>...</td>\n    </tr>\n    <tr>\n      <th>934065</th>\n      <td>75c28395e3c1adc267ae47b89839fa1d</td>\n      <td>2023-02-16 20:15:00+00:00</td>\n      <td>0.060</td>\n      <td>2023</td>\n      <td>2023-02</td>\n    </tr>\n    <tr>\n      <th>934066</th>\n      <td>75c28395e3c1adc267ae47b89839fa1d</td>\n      <td>2023-08-18 14:15:00+00:00</td>\n      <td>0.230</td>\n      <td>2023</td>\n      <td>2023-08</td>\n    </tr>\n    <tr>\n      <th>934067</th>\n      <td>75c28395e3c1adc267ae47b89839fa1d</td>\n      <td>2023-02-13 20:15:00+00:00</td>\n      <td>0.110</td>\n      <td>2023</td>\n      <td>2023-02</td>\n    </tr>\n    <tr>\n      <th>934068</th>\n      <td>75c28395e3c1adc267ae47b89839fa1d</td>\n      <td>2023-10-02 10:15:00+00:00</td>\n      <td>0.150</td>\n      <td>2023</td>\n      <td>2023-10</td>\n    </tr>\n    <tr>\n      <th>934069</th>\n      <td>75c28395e3c1adc267ae47b89839fa1d</td>\n      <td>2023-01-24 18:00:00+00:00</td>\n      <td>0.050</td>\n      <td>2023</td>\n      <td>2023-01</td>\n    </tr>\n  </tbody>\n</table>\n<p>70055320 rows × 5 columns</p>\n</div>"
     },
     "execution_count": 173,
     "metadata": {},
     "output_type": "execute_result"
    }
   ],
   "execution_count": 173
  },
  {
   "cell_type": "code",
   "outputs": [
    {
     "data": {
      "text/plain": "                                      id                 timestamp  value_kwh  \\\n145339  002da9d5719ff5fb0f53307ace9bc9e7 2023-01-01 00:00:00+00:00      0.190   \n376799  002da9d5719ff5fb0f53307ace9bc9e7 2023-01-01 00:15:00+00:00      0.025   \n147313  002da9d5719ff5fb0f53307ace9bc9e7 2023-01-01 00:30:00+00:00      0.651   \n498574  002da9d5719ff5fb0f53307ace9bc9e7 2023-01-01 00:45:00+00:00      0.788   \n150696  002da9d5719ff5fb0f53307ace9bc9e7 2023-01-01 01:00:00+00:00      1.450   \n...                                  ...                       ...        ...   \n33077   ffe7d1f242dfca10ae7e6b3d00761954 2023-12-31 22:45:00+00:00      0.306   \n35056   ffe7d1f242dfca10ae7e6b3d00761954 2023-12-31 23:00:00+00:00      0.262   \n619263  ffe7d1f242dfca10ae7e6b3d00761954 2023-12-31 23:15:00+00:00      0.272   \n851472  ffe7d1f242dfca10ae7e6b3d00761954 2023-12-31 23:30:00+00:00      0.289   \n383877  ffe7d1f242dfca10ae7e6b3d00761954 2023-12-31 23:45:00+00:00      0.264   \n\n        year year_month  \n145339  2023    2023-01  \n376799  2023    2023-01  \n147313  2023    2023-01  \n498574  2023    2023-01  \n150696  2023    2023-01  \n...      ...        ...  \n33077   2023    2023-12  \n35056   2023    2023-12  \n619263  2023    2023-12  \n851472  2023    2023-12  \n383877  2023    2023-12  \n\n[70055320 rows x 5 columns]",
      "text/html": "<div>\n<style scoped>\n    .dataframe tbody tr th:only-of-type {\n        vertical-align: middle;\n    }\n\n    .dataframe tbody tr th {\n        vertical-align: top;\n    }\n\n    .dataframe thead th {\n        text-align: right;\n    }\n</style>\n<table border=\"1\" class=\"dataframe\">\n  <thead>\n    <tr style=\"text-align: right;\">\n      <th></th>\n      <th>id</th>\n      <th>timestamp</th>\n      <th>value_kwh</th>\n      <th>year</th>\n      <th>year_month</th>\n    </tr>\n  </thead>\n  <tbody>\n    <tr>\n      <th>145339</th>\n      <td>002da9d5719ff5fb0f53307ace9bc9e7</td>\n      <td>2023-01-01 00:00:00+00:00</td>\n      <td>0.190</td>\n      <td>2023</td>\n      <td>2023-01</td>\n    </tr>\n    <tr>\n      <th>376799</th>\n      <td>002da9d5719ff5fb0f53307ace9bc9e7</td>\n      <td>2023-01-01 00:15:00+00:00</td>\n      <td>0.025</td>\n      <td>2023</td>\n      <td>2023-01</td>\n    </tr>\n    <tr>\n      <th>147313</th>\n      <td>002da9d5719ff5fb0f53307ace9bc9e7</td>\n      <td>2023-01-01 00:30:00+00:00</td>\n      <td>0.651</td>\n      <td>2023</td>\n      <td>2023-01</td>\n    </tr>\n    <tr>\n      <th>498574</th>\n      <td>002da9d5719ff5fb0f53307ace9bc9e7</td>\n      <td>2023-01-01 00:45:00+00:00</td>\n      <td>0.788</td>\n      <td>2023</td>\n      <td>2023-01</td>\n    </tr>\n    <tr>\n      <th>150696</th>\n      <td>002da9d5719ff5fb0f53307ace9bc9e7</td>\n      <td>2023-01-01 01:00:00+00:00</td>\n      <td>1.450</td>\n      <td>2023</td>\n      <td>2023-01</td>\n    </tr>\n    <tr>\n      <th>...</th>\n      <td>...</td>\n      <td>...</td>\n      <td>...</td>\n      <td>...</td>\n      <td>...</td>\n    </tr>\n    <tr>\n      <th>33077</th>\n      <td>ffe7d1f242dfca10ae7e6b3d00761954</td>\n      <td>2023-12-31 22:45:00+00:00</td>\n      <td>0.306</td>\n      <td>2023</td>\n      <td>2023-12</td>\n    </tr>\n    <tr>\n      <th>35056</th>\n      <td>ffe7d1f242dfca10ae7e6b3d00761954</td>\n      <td>2023-12-31 23:00:00+00:00</td>\n      <td>0.262</td>\n      <td>2023</td>\n      <td>2023-12</td>\n    </tr>\n    <tr>\n      <th>619263</th>\n      <td>ffe7d1f242dfca10ae7e6b3d00761954</td>\n      <td>2023-12-31 23:15:00+00:00</td>\n      <td>0.272</td>\n      <td>2023</td>\n      <td>2023-12</td>\n    </tr>\n    <tr>\n      <th>851472</th>\n      <td>ffe7d1f242dfca10ae7e6b3d00761954</td>\n      <td>2023-12-31 23:30:00+00:00</td>\n      <td>0.289</td>\n      <td>2023</td>\n      <td>2023-12</td>\n    </tr>\n    <tr>\n      <th>383877</th>\n      <td>ffe7d1f242dfca10ae7e6b3d00761954</td>\n      <td>2023-12-31 23:45:00+00:00</td>\n      <td>0.264</td>\n      <td>2023</td>\n      <td>2023-12</td>\n    </tr>\n  </tbody>\n</table>\n<p>70055320 rows × 5 columns</p>\n</div>"
     },
     "execution_count": 174,
     "metadata": {},
     "output_type": "execute_result"
    }
   ],
   "source": [
    "sample_df_sorted = sample_df.sort_values(['id', 'year_month', 'timestamp'])\n",
    "sample_df_sorted"
   ],
   "metadata": {
    "collapsed": false,
    "ExecuteTime": {
     "end_time": "2024-09-13T07:20:04.836837Z",
     "start_time": "2024-09-13T07:19:05.331832Z"
    }
   },
   "id": "a3d20bd2e641f4d6",
   "execution_count": 174
  },
  {
   "cell_type": "code",
   "outputs": [],
   "source": [
    "time_delta_hours = 6\n",
    "time_delta = time_delta_hours * 4 # amount of 15 minute intervals"
   ],
   "metadata": {
    "collapsed": false,
    "ExecuteTime": {
     "end_time": "2024-09-13T07:24:59.294977Z",
     "start_time": "2024-09-13T07:24:59.292782Z"
    }
   },
   "id": "72a7af776cda4ee2",
   "execution_count": 185
  },
  {
   "cell_type": "code",
   "outputs": [
    {
     "data": {
      "text/plain": "                                      id                 timestamp  value_kwh  \\\n145339  002da9d5719ff5fb0f53307ace9bc9e7 2023-01-01 00:00:00+00:00      0.190   \n376799  002da9d5719ff5fb0f53307ace9bc9e7 2023-01-01 00:15:00+00:00      0.025   \n147313  002da9d5719ff5fb0f53307ace9bc9e7 2023-01-01 00:30:00+00:00      0.651   \n498574  002da9d5719ff5fb0f53307ace9bc9e7 2023-01-01 00:45:00+00:00      0.788   \n150696  002da9d5719ff5fb0f53307ace9bc9e7 2023-01-01 01:00:00+00:00      1.450   \n...                                  ...                       ...        ...   \n33077   ffe7d1f242dfca10ae7e6b3d00761954 2023-12-31 22:45:00+00:00      0.306   \n35056   ffe7d1f242dfca10ae7e6b3d00761954 2023-12-31 23:00:00+00:00      0.262   \n619263  ffe7d1f242dfca10ae7e6b3d00761954 2023-12-31 23:15:00+00:00      0.272   \n851472  ffe7d1f242dfca10ae7e6b3d00761954 2023-12-31 23:30:00+00:00      0.289   \n383877  ffe7d1f242dfca10ae7e6b3d00761954 2023-12-31 23:45:00+00:00      0.264   \n\n        year year_month  last_value  demand_change_kwh  \n145339  2023    2023-01       0.000              0.000  \n376799  2023    2023-01       0.000              0.000  \n147313  2023    2023-01       0.000              0.000  \n498574  2023    2023-01       0.000              0.000  \n150696  2023    2023-01       0.000              0.000  \n...      ...        ...         ...                ...  \n33077   2023    2023-12       0.385             -0.079  \n35056   2023    2023-12       0.610             -0.348  \n619263  2023    2023-12       0.397             -0.125  \n851472  2023    2023-12       0.200              0.089  \n383877  2023    2023-12       0.182              0.082  \n\n[70055320 rows x 7 columns]",
      "text/html": "<div>\n<style scoped>\n    .dataframe tbody tr th:only-of-type {\n        vertical-align: middle;\n    }\n\n    .dataframe tbody tr th {\n        vertical-align: top;\n    }\n\n    .dataframe thead th {\n        text-align: right;\n    }\n</style>\n<table border=\"1\" class=\"dataframe\">\n  <thead>\n    <tr style=\"text-align: right;\">\n      <th></th>\n      <th>id</th>\n      <th>timestamp</th>\n      <th>value_kwh</th>\n      <th>year</th>\n      <th>year_month</th>\n      <th>last_value</th>\n      <th>demand_change_kwh</th>\n    </tr>\n  </thead>\n  <tbody>\n    <tr>\n      <th>145339</th>\n      <td>002da9d5719ff5fb0f53307ace9bc9e7</td>\n      <td>2023-01-01 00:00:00+00:00</td>\n      <td>0.190</td>\n      <td>2023</td>\n      <td>2023-01</td>\n      <td>0.000</td>\n      <td>0.000</td>\n    </tr>\n    <tr>\n      <th>376799</th>\n      <td>002da9d5719ff5fb0f53307ace9bc9e7</td>\n      <td>2023-01-01 00:15:00+00:00</td>\n      <td>0.025</td>\n      <td>2023</td>\n      <td>2023-01</td>\n      <td>0.000</td>\n      <td>0.000</td>\n    </tr>\n    <tr>\n      <th>147313</th>\n      <td>002da9d5719ff5fb0f53307ace9bc9e7</td>\n      <td>2023-01-01 00:30:00+00:00</td>\n      <td>0.651</td>\n      <td>2023</td>\n      <td>2023-01</td>\n      <td>0.000</td>\n      <td>0.000</td>\n    </tr>\n    <tr>\n      <th>498574</th>\n      <td>002da9d5719ff5fb0f53307ace9bc9e7</td>\n      <td>2023-01-01 00:45:00+00:00</td>\n      <td>0.788</td>\n      <td>2023</td>\n      <td>2023-01</td>\n      <td>0.000</td>\n      <td>0.000</td>\n    </tr>\n    <tr>\n      <th>150696</th>\n      <td>002da9d5719ff5fb0f53307ace9bc9e7</td>\n      <td>2023-01-01 01:00:00+00:00</td>\n      <td>1.450</td>\n      <td>2023</td>\n      <td>2023-01</td>\n      <td>0.000</td>\n      <td>0.000</td>\n    </tr>\n    <tr>\n      <th>...</th>\n      <td>...</td>\n      <td>...</td>\n      <td>...</td>\n      <td>...</td>\n      <td>...</td>\n      <td>...</td>\n      <td>...</td>\n    </tr>\n    <tr>\n      <th>33077</th>\n      <td>ffe7d1f242dfca10ae7e6b3d00761954</td>\n      <td>2023-12-31 22:45:00+00:00</td>\n      <td>0.306</td>\n      <td>2023</td>\n      <td>2023-12</td>\n      <td>0.385</td>\n      <td>-0.079</td>\n    </tr>\n    <tr>\n      <th>35056</th>\n      <td>ffe7d1f242dfca10ae7e6b3d00761954</td>\n      <td>2023-12-31 23:00:00+00:00</td>\n      <td>0.262</td>\n      <td>2023</td>\n      <td>2023-12</td>\n      <td>0.610</td>\n      <td>-0.348</td>\n    </tr>\n    <tr>\n      <th>619263</th>\n      <td>ffe7d1f242dfca10ae7e6b3d00761954</td>\n      <td>2023-12-31 23:15:00+00:00</td>\n      <td>0.272</td>\n      <td>2023</td>\n      <td>2023-12</td>\n      <td>0.397</td>\n      <td>-0.125</td>\n    </tr>\n    <tr>\n      <th>851472</th>\n      <td>ffe7d1f242dfca10ae7e6b3d00761954</td>\n      <td>2023-12-31 23:30:00+00:00</td>\n      <td>0.289</td>\n      <td>2023</td>\n      <td>2023-12</td>\n      <td>0.200</td>\n      <td>0.089</td>\n    </tr>\n    <tr>\n      <th>383877</th>\n      <td>ffe7d1f242dfca10ae7e6b3d00761954</td>\n      <td>2023-12-31 23:45:00+00:00</td>\n      <td>0.264</td>\n      <td>2023</td>\n      <td>2023-12</td>\n      <td>0.182</td>\n      <td>0.082</td>\n    </tr>\n  </tbody>\n</table>\n<p>70055320 rows × 7 columns</p>\n</div>"
     },
     "execution_count": 186,
     "metadata": {},
     "output_type": "execute_result"
    }
   ],
   "source": [
    "df_derivative = sample_df_sorted\n",
    "df_derivative['last_value'] = df_derivative.groupby(['id', 'year_month'])['value_kwh'].shift(int(time_delta))\n",
    "df_derivative['demand_change_kwh'] = df_derivative['value_kwh'] - df_derivative['last_value']\n",
    "df_derivative.fillna(0, inplace=True)\n",
    "\n",
    "df_derivative"
   ],
   "metadata": {
    "collapsed": false,
    "ExecuteTime": {
     "end_time": "2024-09-13T07:25:09.945525Z",
     "start_time": "2024-09-13T07:25:00.932043Z"
    }
   },
   "id": "6f868c6cf4804a07",
   "execution_count": 186
  },
  {
   "cell_type": "code",
   "outputs": [],
   "source": [
    "# def apodize(signal, window_type='hamming', alpha=2.5):\n",
    "#     \"\"\"\n",
    "#     Apply apodization (windowing) to a signal.\n",
    "# \n",
    "#     Parameters:\n",
    "#         signal (np.array): The input signal to be apodized.\n",
    "#         window_type (str): The type of window function to apply.\n",
    "#                            Options: 'hamming', 'hanning', 'blackman', 'gaussian', 'kaiser'.\n",
    "#         alpha (float): Shape parameter for the Gaussian or Kaiser window (if applicable).\n",
    "# \n",
    "#     Returns:\n",
    "#         np.array: The apodized signal.\n",
    "#     \"\"\"\n",
    "# \n",
    "#     N = len(signal)  # Length of the signal\n",
    "# \n",
    "#     # Select the window type\n",
    "#     if window_type == 'hamming':\n",
    "#         window = np.hamming(N)\n",
    "#     elif window_type == 'hanning':\n",
    "#         window = np.hanning(N)\n",
    "#     elif window_type == 'blackman':\n",
    "#         window = np.blackman(N)\n",
    "#     elif window_type == 'gaussian':\n",
    "#         window = np.exp(-0.5 * ((np.arange(N) - N/2) / (alpha * N/2))**2)\n",
    "#     elif window_type == 'kaiser':\n",
    "#         window = np.kaiser(N, alpha)\n",
    "#     else:\n",
    "#         raise ValueError(f\"Unsupported window type: {window_type}\")\n",
    "# \n",
    "#     # Apply the window to the signal\n",
    "#     apodized_signal = signal * window\n",
    "# \n",
    "#     return apodized_signal\n"
   ],
   "metadata": {
    "collapsed": false,
    "ExecuteTime": {
     "end_time": "2024-09-13T07:25:44.539398Z",
     "start_time": "2024-09-13T07:25:44.535693Z"
    }
   },
   "id": "c95a2a8e315324a3",
   "execution_count": 187
  },
  {
   "cell_type": "code",
   "outputs": [],
   "source": [
    "#def max_apodize(signal, window_type='hamming', alpha=0.05):\n",
    "#    return apodize(signal, window_type=window_type, alpha=alpha).max()"
   ],
   "metadata": {
    "collapsed": false,
    "ExecuteTime": {
     "end_time": "2024-09-13T07:25:44.957798Z",
     "start_time": "2024-09-13T07:25:44.954843Z"
    }
   },
   "id": "d38a76f0f2a8776",
   "execution_count": 188
  },
  {
   "cell_type": "code",
   "outputs": [],
   "source": [
    "#def min_apodize(signal, window_type='hamming', alpha=0.05):\n",
    "#    return apodize(signal, window_type=window_type, alpha=alpha).min()"
   ],
   "metadata": {
    "collapsed": false,
    "ExecuteTime": {
     "end_time": "2024-09-13T07:25:45.383814Z",
     "start_time": "2024-09-13T07:25:45.382019Z"
    }
   },
   "id": "598b6dd79f16dbd",
   "execution_count": 189
  },
  {
   "cell_type": "code",
   "outputs": [],
   "source": [
    "rolling_average = 5"
   ],
   "metadata": {
    "collapsed": false,
    "ExecuteTime": {
     "end_time": "2024-09-13T07:25:45.763705Z",
     "start_time": "2024-09-13T07:25:45.761579Z"
    }
   },
   "id": "a94c8f26ff15c45",
   "execution_count": 190
  },
  {
   "cell_type": "code",
   "outputs": [],
   "source": [
    "def smooth_signal(signal, window_size=rolling_average):\n",
    "    \"\"\"\n",
    "    Smooth the input signal using a rolling mean (moving average).\n",
    "    \n",
    "    Parameters:\n",
    "        signal (np.array): The input signal to be smoothed.\n",
    "        window_size (int): The size of the rolling window (must be odd).\n",
    "    \n",
    "    Returns:\n",
    "        np.array: The smoothed signal.\n",
    "    \"\"\"\n",
    "    if window_size % 2 == 0:\n",
    "        raise ValueError(\"Window size must be odd to keep symmetry.\")\n",
    "    \n",
    "    # Convert to pandas Series to use rolling mean\n",
    "    signal_series = pd.Series(signal)\n",
    "    \n",
    "    # Apply rolling mean\n",
    "    smoothed_signal = signal_series.rolling(window=window_size, center=True, min_periods=1).mean().to_numpy()\n",
    "    \n",
    "    return smoothed_signal"
   ],
   "metadata": {
    "collapsed": false,
    "ExecuteTime": {
     "end_time": "2024-09-13T07:25:46.183837Z",
     "start_time": "2024-09-13T07:25:46.180261Z"
    }
   },
   "id": "1cc3be869e6387ca",
   "execution_count": 191
  },
  {
   "cell_type": "code",
   "outputs": [],
   "source": [
    "def smooth_max(signal, window_size=rolling_average):\n",
    "    return smooth_signal(signal, window_size).max()\n",
    "\n",
    "def smooth_min(signal, window_size=rolling_average):\n",
    "    return smooth_signal(signal, window_size).min()"
   ],
   "metadata": {
    "collapsed": false,
    "ExecuteTime": {
     "end_time": "2024-09-13T07:25:46.796820Z",
     "start_time": "2024-09-13T07:25:46.793988Z"
    }
   },
   "id": "3b79c85c64f4a167",
   "execution_count": 192
  },
  {
   "cell_type": "code",
   "outputs": [],
   "source": [
    "from scipy.signal import savgol_filter\n",
    "\n",
    "savgol_order = 3\n",
    "\n",
    "def max_savgol(signal, window_size=rolling_average, polyorder=savgol_order):\n",
    "    return savgol_filter(signal, window_size, polyorder).max()\n",
    "\n",
    "def min_savgol(signal, window_size=rolling_average, polyorder=savgol_order):\n",
    "    return savgol_filter(signal, window_size, polyorder).min()\n"
   ],
   "metadata": {
    "collapsed": false,
    "ExecuteTime": {
     "end_time": "2024-09-13T07:25:47.199780Z",
     "start_time": "2024-09-13T07:25:47.196237Z"
    }
   },
   "id": "ebab5d717aa72d76",
   "execution_count": 193
  },
  {
   "metadata": {
    "ExecuteTime": {
     "end_time": "2024-09-13T07:26:06.457301Z",
     "start_time": "2024-09-13T07:25:47.702411Z"
    }
   },
   "cell_type": "code",
   "source": [
    "# Step 1: Group by 'id' and extract features\n",
    "agg_funcs = {\n",
    "    'value_kwh': ['mean', 'std', 'min', 'max'],\n",
    "    'demand_change_kwh': ['mean', 'std', 'max', smooth_max, max_savgol, 'min', smooth_min, min_savgol]\n",
    "}\n",
    "\n",
    "\n",
    "monthly_features_df = df_derivative.groupby(['id', 'year_month']).agg(agg_funcs)\n",
    "\n",
    "monthly_features_df"
   ],
   "id": "cf3b48946caf2df6",
   "outputs": [
    {
     "data": {
      "text/plain": "                                            value_kwh                          \\\n                                                 mean       std    min    max   \nid                               year_month                                     \n002da9d5719ff5fb0f53307ace9bc9e7 2023-01     0.763014  0.772785  0.020  3.532   \n                                 2023-02     0.680193  0.744177  0.000  3.265   \n                                 2023-03     0.584596  0.705993  0.019  3.145   \n                                 2023-04     0.513881  0.660658  0.016  2.940   \n                                 2023-05     0.357994  0.614618  0.004  2.439   \n...                                               ...       ...    ...    ...   \nffe7d1f242dfca10ae7e6b3d00761954 2023-08     0.079614  0.106065  0.014  1.319   \n                                 2023-09     0.082902  0.104470  0.014  0.960   \n                                 2023-10     0.089666  0.114843  0.014  1.008   \n                                 2023-11     0.091762  0.105300  0.014  0.959   \n                                 2023-12     0.104182  0.118623  0.026  1.135   \n\n                                            demand_change_kwh            \\\n                                                         mean       std   \nid                               year_month                               \n002da9d5719ff5fb0f53307ace9bc9e7 2023-01            -0.002744  1.070998   \n                                 2023-02            -0.006327  1.022264   \n                                 2023-03            -0.006275  0.957519   \n                                 2023-04            -0.002864  0.920220   \n                                 2023-05            -0.004096  0.878292   \n...                                                       ...       ...   \nffe7d1f242dfca10ae7e6b3d00761954 2023-08             0.000531  0.152554   \n                                 2023-09             0.000681  0.147509   \n                                 2023-10             0.000293  0.163829   \n                                 2023-11             0.000416  0.143677   \n                                 2023-12             0.001986  0.165025   \n\n                                                                          \\\n                                               max smooth_max max_savgol   \nid                               year_month                                \n002da9d5719ff5fb0f53307ace9bc9e7 2023-01     3.234     2.2834   2.665971   \n                                 2023-02     3.102     2.2744   2.612543   \n                                 2023-03     2.830     1.7916   2.603029   \n                                 2023-04     2.879     1.7050   2.135400   \n                                 2023-05     2.420     1.7184   2.086114   \n...                                            ...        ...        ...   \nffe7d1f242dfca10ae7e6b3d00761954 2023-08     1.296     0.6068   0.880571   \n                                 2023-09     0.914     0.4620   0.707600   \n                                 2023-10     0.958     0.5512   0.694114   \n                                 2023-11     0.868     0.5070   0.765143   \n                                 2023-12     1.059     0.6390   0.903229   \n\n                                                                          \n                                               min smooth_min min_savgol  \nid                               year_month                               \n002da9d5719ff5fb0f53307ace9bc9e7 2023-01    -3.511    -2.5710  -2.919829  \n                                 2023-02    -3.153    -2.2530  -2.751429  \n                                 2023-03    -3.121    -2.2964  -3.009829  \n                                 2023-04    -2.920    -2.1824  -2.406486  \n                                 2023-05    -2.420    -1.7476  -2.197057  \n...                                            ...        ...        ...  \nffe7d1f242dfca10ae7e6b3d00761954 2023-08    -1.252    -0.5934  -0.928657  \n                                 2023-09    -0.915    -0.3496  -0.551800  \n                                 2023-10    -0.972    -0.4804  -0.718800  \n                                 2023-11    -0.910    -0.5274  -0.771286  \n                                 2023-12    -1.061    -0.7534  -0.965543  \n\n[21300 rows x 12 columns]",
      "text/html": "<div>\n<style scoped>\n    .dataframe tbody tr th:only-of-type {\n        vertical-align: middle;\n    }\n\n    .dataframe tbody tr th {\n        vertical-align: top;\n    }\n\n    .dataframe thead tr th {\n        text-align: left;\n    }\n\n    .dataframe thead tr:last-of-type th {\n        text-align: right;\n    }\n</style>\n<table border=\"1\" class=\"dataframe\">\n  <thead>\n    <tr>\n      <th></th>\n      <th></th>\n      <th colspan=\"4\" halign=\"left\">value_kwh</th>\n      <th colspan=\"8\" halign=\"left\">demand_change_kwh</th>\n    </tr>\n    <tr>\n      <th></th>\n      <th></th>\n      <th>mean</th>\n      <th>std</th>\n      <th>min</th>\n      <th>max</th>\n      <th>mean</th>\n      <th>std</th>\n      <th>max</th>\n      <th>smooth_max</th>\n      <th>max_savgol</th>\n      <th>min</th>\n      <th>smooth_min</th>\n      <th>min_savgol</th>\n    </tr>\n    <tr>\n      <th>id</th>\n      <th>year_month</th>\n      <th></th>\n      <th></th>\n      <th></th>\n      <th></th>\n      <th></th>\n      <th></th>\n      <th></th>\n      <th></th>\n      <th></th>\n      <th></th>\n      <th></th>\n      <th></th>\n    </tr>\n  </thead>\n  <tbody>\n    <tr>\n      <th rowspan=\"5\" valign=\"top\">002da9d5719ff5fb0f53307ace9bc9e7</th>\n      <th>2023-01</th>\n      <td>0.763014</td>\n      <td>0.772785</td>\n      <td>0.020</td>\n      <td>3.532</td>\n      <td>-0.002744</td>\n      <td>1.070998</td>\n      <td>3.234</td>\n      <td>2.2834</td>\n      <td>2.665971</td>\n      <td>-3.511</td>\n      <td>-2.5710</td>\n      <td>-2.919829</td>\n    </tr>\n    <tr>\n      <th>2023-02</th>\n      <td>0.680193</td>\n      <td>0.744177</td>\n      <td>0.000</td>\n      <td>3.265</td>\n      <td>-0.006327</td>\n      <td>1.022264</td>\n      <td>3.102</td>\n      <td>2.2744</td>\n      <td>2.612543</td>\n      <td>-3.153</td>\n      <td>-2.2530</td>\n      <td>-2.751429</td>\n    </tr>\n    <tr>\n      <th>2023-03</th>\n      <td>0.584596</td>\n      <td>0.705993</td>\n      <td>0.019</td>\n      <td>3.145</td>\n      <td>-0.006275</td>\n      <td>0.957519</td>\n      <td>2.830</td>\n      <td>1.7916</td>\n      <td>2.603029</td>\n      <td>-3.121</td>\n      <td>-2.2964</td>\n      <td>-3.009829</td>\n    </tr>\n    <tr>\n      <th>2023-04</th>\n      <td>0.513881</td>\n      <td>0.660658</td>\n      <td>0.016</td>\n      <td>2.940</td>\n      <td>-0.002864</td>\n      <td>0.920220</td>\n      <td>2.879</td>\n      <td>1.7050</td>\n      <td>2.135400</td>\n      <td>-2.920</td>\n      <td>-2.1824</td>\n      <td>-2.406486</td>\n    </tr>\n    <tr>\n      <th>2023-05</th>\n      <td>0.357994</td>\n      <td>0.614618</td>\n      <td>0.004</td>\n      <td>2.439</td>\n      <td>-0.004096</td>\n      <td>0.878292</td>\n      <td>2.420</td>\n      <td>1.7184</td>\n      <td>2.086114</td>\n      <td>-2.420</td>\n      <td>-1.7476</td>\n      <td>-2.197057</td>\n    </tr>\n    <tr>\n      <th>...</th>\n      <th>...</th>\n      <td>...</td>\n      <td>...</td>\n      <td>...</td>\n      <td>...</td>\n      <td>...</td>\n      <td>...</td>\n      <td>...</td>\n      <td>...</td>\n      <td>...</td>\n      <td>...</td>\n      <td>...</td>\n      <td>...</td>\n    </tr>\n    <tr>\n      <th rowspan=\"5\" valign=\"top\">ffe7d1f242dfca10ae7e6b3d00761954</th>\n      <th>2023-08</th>\n      <td>0.079614</td>\n      <td>0.106065</td>\n      <td>0.014</td>\n      <td>1.319</td>\n      <td>0.000531</td>\n      <td>0.152554</td>\n      <td>1.296</td>\n      <td>0.6068</td>\n      <td>0.880571</td>\n      <td>-1.252</td>\n      <td>-0.5934</td>\n      <td>-0.928657</td>\n    </tr>\n    <tr>\n      <th>2023-09</th>\n      <td>0.082902</td>\n      <td>0.104470</td>\n      <td>0.014</td>\n      <td>0.960</td>\n      <td>0.000681</td>\n      <td>0.147509</td>\n      <td>0.914</td>\n      <td>0.4620</td>\n      <td>0.707600</td>\n      <td>-0.915</td>\n      <td>-0.3496</td>\n      <td>-0.551800</td>\n    </tr>\n    <tr>\n      <th>2023-10</th>\n      <td>0.089666</td>\n      <td>0.114843</td>\n      <td>0.014</td>\n      <td>1.008</td>\n      <td>0.000293</td>\n      <td>0.163829</td>\n      <td>0.958</td>\n      <td>0.5512</td>\n      <td>0.694114</td>\n      <td>-0.972</td>\n      <td>-0.4804</td>\n      <td>-0.718800</td>\n    </tr>\n    <tr>\n      <th>2023-11</th>\n      <td>0.091762</td>\n      <td>0.105300</td>\n      <td>0.014</td>\n      <td>0.959</td>\n      <td>0.000416</td>\n      <td>0.143677</td>\n      <td>0.868</td>\n      <td>0.5070</td>\n      <td>0.765143</td>\n      <td>-0.910</td>\n      <td>-0.5274</td>\n      <td>-0.771286</td>\n    </tr>\n    <tr>\n      <th>2023-12</th>\n      <td>0.104182</td>\n      <td>0.118623</td>\n      <td>0.026</td>\n      <td>1.135</td>\n      <td>0.001986</td>\n      <td>0.165025</td>\n      <td>1.059</td>\n      <td>0.6390</td>\n      <td>0.903229</td>\n      <td>-1.061</td>\n      <td>-0.7534</td>\n      <td>-0.965543</td>\n    </tr>\n  </tbody>\n</table>\n<p>21300 rows × 12 columns</p>\n</div>"
     },
     "execution_count": 194,
     "metadata": {},
     "output_type": "execute_result"
    }
   ],
   "execution_count": 194
  },
  {
   "cell_type": "code",
   "outputs": [],
   "source": [],
   "metadata": {
    "collapsed": false
   },
   "id": "a32fc5b935e115b2"
  }
 ],
 "metadata": {
  "kernelspec": {
   "display_name": "Python 3",
   "language": "python",
   "name": "python3"
  },
  "language_info": {
   "codemirror_mode": {
    "name": "ipython",
    "version": 2
   },
   "file_extension": ".py",
   "mimetype": "text/x-python",
   "name": "python",
   "nbconvert_exporter": "python",
   "pygments_lexer": "ipython2",
   "version": "2.7.6"
  }
 },
 "nbformat": 4,
 "nbformat_minor": 5
}
