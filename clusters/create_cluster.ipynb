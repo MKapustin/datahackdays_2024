{
 "cells": [
  {
   "cell_type": "code",
   "id": "initial_id",
   "metadata": {
    "collapsed": true,
    "ExecuteTime": {
     "end_time": "2024-09-12T11:42:18.195584Z",
     "start_time": "2024-09-12T11:42:17.858617Z"
    }
   },
   "source": [
    "import pandas as pd"
   ],
   "outputs": [],
   "execution_count": 1
  },
  {
   "metadata": {
    "ExecuteTime": {
     "end_time": "2024-09-12T11:45:13.608541Z",
     "start_time": "2024-09-12T11:45:13.603094Z"
    }
   },
   "cell_type": "code",
   "source": [
    "timeseries_file_path = '...' \n",
    "df = pd.read_csv(timeseries_file_path, nrows=2)\n",
    "df"
   ],
   "id": "2bb24882a2d88e2b",
   "outputs": [],
   "execution_count": 3
  }
 ],
 "metadata": {
  "kernelspec": {
   "display_name": "Python 3",
   "language": "python",
   "name": "python3"
  },
  "language_info": {
   "codemirror_mode": {
    "name": "ipython",
    "version": 2
   },
   "file_extension": ".py",
   "mimetype": "text/x-python",
   "name": "python",
   "nbconvert_exporter": "python",
   "pygments_lexer": "ipython2",
   "version": "2.7.6"
  }
 },
 "nbformat": 4,
 "nbformat_minor": 5
}
