{
 "cells": [
  {
   "cell_type": "code",
   "execution_count": 1,
   "metadata": {},
   "outputs": [],
   "source": [
    "import pandas as pd"
   ]
  },
  {
   "cell_type": "code",
   "execution_count": 2,
   "metadata": {},
   "outputs": [],
   "source": [
    "file_weather = \"daily_weather.csv\"\n",
    "file_holiday = \"holidays.csv\""
   ]
  },
  {
   "cell_type": "code",
   "execution_count": 4,
   "metadata": {},
   "outputs": [],
   "source": [
    "\n",
    "df_holidays = pd.read_csv(f\"{file_holiday}\")\n",
    "df_holidays['date'] = pd.to_datetime(df_holidays['date'], format=\"mixed\").dt.date\n",
    "\n",
    "df_weather = pd.read_csv(f\"{file_weather}\")\n",
    "df_weather['date'] = pd.to_datetime(df_weather['date']).dt.date"
   ]
  },
  {
   "cell_type": "code",
   "execution_count": 5,
   "metadata": {},
   "outputs": [],
   "source": [
    "# get month in format YYYY-MM\n",
    "df_weather[\"month\"] = pd.to_datetime(df_weather[\"date\"]).dt.to_period('M')\n",
    "df = df_weather.groupby(\"month\")[\"daytemp\"].mean()\n",
    "df = df.to_frame().reset_index()\n",
    "df_weather_monthly_temp_mean =  df_weather.groupby(\"month\")[\"daytemp\"].mean().to_frame().reset_index()\n",
    "df_weather_monthly_temp_mean.rename(columns={'daytemp':'temp_mean'}, inplace=True)\n",
    "\n",
    "df_weather_monthly_temp_max = df_weather.groupby(\"month\")[\"daytemp\"].max().to_frame().reset_index()\n",
    "df_weather_monthly_temp_max.rename(columns={'daytemp':'temp_max'}, inplace=True)\n",
    "\n",
    "df_weather_monthly_temp_min = df_weather.groupby(\"month\")[\"daytemp\"].min().to_frame().reset_index()\n",
    "df_weather_monthly_temp_min.rename(columns={'daytemp':'temp_min'}, inplace=True)\n",
    "\n",
    "df_weather_monthly_sunshine_sum = df_weather.groupby(\"month\")[\"sunshine_in_minutes\"].sum().to_frame().reset_index()\n",
    "df_weather_monthly_rain_sum = df_weather.groupby(\"month\")[\"rain_in_mm\"].sum().to_frame().reset_index()\n",
    "df_weather_monthly_airpress_mean = df_weather.groupby(\"month\")[\"airpress\"].mean().to_frame().reset_index()"
   ]
  },
  {
   "cell_type": "code",
   "execution_count": 6,
   "metadata": {},
   "outputs": [],
   "source": [
    "df_weather_monthly = df_weather_monthly_temp_mean.merge(df_weather_monthly_temp_max, on=\"month\")\n",
    "df_weather_monthly = df_weather_monthly.merge(df_weather_monthly_temp_min, on=\"month\")\n",
    "df_weather_monthly = df_weather_monthly.merge(df_weather_monthly_temp_max, on=\"month\")\n",
    "df_weather_monthly = df_weather_monthly.merge(df_weather_monthly_sunshine_sum, on=\"month\")\n",
    "df_weather_monthly = df_weather_monthly.merge(df_weather_monthly_rain_sum, on=\"month\")\n",
    "df_weather_monthly = df_weather_monthly.merge(df_weather_monthly_airpress_mean, on=\"month\")\n"
   ]
  },
  {
   "cell_type": "code",
   "execution_count": 7,
   "metadata": {},
   "outputs": [],
   "source": [
    "df_weather_monthly[\"sunshine_in_hours\"] = df_weather_monthly[\"sunshine_in_minutes\"] / 60"
   ]
  },
  {
   "cell_type": "code",
   "execution_count": 8,
   "metadata": {},
   "outputs": [],
   "source": [
    "df_holidays[\"month\"] = pd.to_datetime(df_holidays[\"date\"]).dt.to_period('M')\n",
    "df_holidays.head()\n",
    "df_holidays_monthly = df_holidays.groupby(\"month\")[\"date\"].count().to_frame().reset_index()\n",
    "df_holidays_monthly.rename(columns={'date':'number_of_holidays'}, inplace=True)\n",
    "df_holidays_monthly.to_csv(f\"../output_data/holidays_monthly.csv\", index=False)"
   ]
  },
  {
   "cell_type": "code",
   "execution_count": 9,
   "metadata": {},
   "outputs": [],
   "source": [
    "df_additional_features = df_weather_monthly.merge(df_holidays_monthly, on=\"month\")"
   ]
  },
  {
   "cell_type": "code",
   "execution_count": 11,
   "metadata": {},
   "outputs": [],
   "source": [
    "df_additional_features.to_csv(f\"monthly_additional_features.csv\", index=False)"
   ]
  }
 ],
 "metadata": {
  "kernelspec": {
   "display_name": ".venv",
   "language": "python",
   "name": "python3"
  },
  "language_info": {
   "codemirror_mode": {
    "name": "ipython",
    "version": 3
   },
   "file_extension": ".py",
   "mimetype": "text/x-python",
   "name": "python",
   "nbconvert_exporter": "python",
   "pygments_lexer": "ipython3",
   "version": "3.10.14"
  }
 },
 "nbformat": 4,
 "nbformat_minor": 2
}
